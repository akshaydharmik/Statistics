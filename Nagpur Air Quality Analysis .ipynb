{
 "cells": [
  {
   "cell_type": "markdown",
   "metadata": {},
   "source": [
    "## Nagpur AirQuality Analysis for year 2020 \n",
    "#### <p style=\"text-align:right\"> - By Akshay Dharmik & Gaurav Kantrod </p>"
   ]
  },
  {
   "cell_type": "markdown",
   "metadata": {},
   "source": [
    "### Importing all the required libraries"
   ]
  },
  {
   "cell_type": "code",
   "execution_count": 110,
   "metadata": {},
   "outputs": [],
   "source": [
    "import pandas as pd\n",
    "import scipy.stats as sp\n",
    "import matplotlib.pyplot as plt\n",
    "import numpy as np\n",
    "import seaborn as sns\n",
    "import scipy.stats as sp\n",
    "from statsmodels.stats.multicomp import pairwise_tukeyhsd, MultiComparison"
   ]
  },
  {
   "cell_type": "markdown",
   "metadata": {},
   "source": [
    "### Reading CSV file as dataframe"
   ]
  },
  {
   "cell_type": "code",
   "execution_count": 111,
   "metadata": {},
   "outputs": [],
   "source": [
    "aq = pd.read_csv('nagpur.csv')"
   ]
  },
  {
   "cell_type": "markdown",
   "metadata": {},
   "source": [
    "### Having a look at data points and features"
   ]
  },
  {
   "cell_type": "code",
   "execution_count": 112,
   "metadata": {},
   "outputs": [
    {
     "data": {
      "text/html": [
       "<div>\n",
       "<style scoped>\n",
       "    .dataframe tbody tr th:only-of-type {\n",
       "        vertical-align: middle;\n",
       "    }\n",
       "\n",
       "    .dataframe tbody tr th {\n",
       "        vertical-align: top;\n",
       "    }\n",
       "\n",
       "    .dataframe thead th {\n",
       "        text-align: right;\n",
       "    }\n",
       "</style>\n",
       "<table border=\"1\" class=\"dataframe\">\n",
       "  <thead>\n",
       "    <tr style=\"text-align: right;\">\n",
       "      <th></th>\n",
       "      <th>location</th>\n",
       "      <th>city</th>\n",
       "      <th>country</th>\n",
       "      <th>utc</th>\n",
       "      <th>local</th>\n",
       "      <th>parameter</th>\n",
       "      <th>value</th>\n",
       "      <th>unit</th>\n",
       "      <th>latitude</th>\n",
       "      <th>longitude</th>\n",
       "      <th>attribution</th>\n",
       "    </tr>\n",
       "  </thead>\n",
       "  <tbody>\n",
       "    <tr>\n",
       "      <th>0</th>\n",
       "      <td>Opp GPO Civil Lines, Nagpur - MPCB</td>\n",
       "      <td>Nagpur</td>\n",
       "      <td>IN</td>\n",
       "      <td>2020-12-24T17:45:00Z</td>\n",
       "      <td>2020-12-24T23:15:00+05:30</td>\n",
       "      <td>pm25</td>\n",
       "      <td>130.54</td>\n",
       "      <td>µg/m³</td>\n",
       "      <td>21.152875</td>\n",
       "      <td>79.051753</td>\n",
       "      <td>[{\"url\":\"https://app.cpcbccr.com/ccr/#/caaqm-d...</td>\n",
       "    </tr>\n",
       "    <tr>\n",
       "      <th>1</th>\n",
       "      <td>Opp GPO Civil Lines, Nagpur - MPCB</td>\n",
       "      <td>Nagpur</td>\n",
       "      <td>IN</td>\n",
       "      <td>2020-12-24T17:15:00Z</td>\n",
       "      <td>2020-12-24T22:45:00+05:30</td>\n",
       "      <td>pm25</td>\n",
       "      <td>103.87</td>\n",
       "      <td>µg/m³</td>\n",
       "      <td>21.152875</td>\n",
       "      <td>79.051753</td>\n",
       "      <td>[{\"url\":\"https://app.cpcbccr.com/ccr/#/caaqm-d...</td>\n",
       "    </tr>\n",
       "    <tr>\n",
       "      <th>2</th>\n",
       "      <td>Opp GPO Civil Lines, Nagpur - MPCB</td>\n",
       "      <td>Nagpur</td>\n",
       "      <td>IN</td>\n",
       "      <td>2020-12-24T16:45:00Z</td>\n",
       "      <td>2020-12-24T22:15:00+05:30</td>\n",
       "      <td>pm25</td>\n",
       "      <td>103.87</td>\n",
       "      <td>µg/m³</td>\n",
       "      <td>21.152875</td>\n",
       "      <td>79.051753</td>\n",
       "      <td>[{\"url\":\"https://app.cpcbccr.com/ccr/#/caaqm-d...</td>\n",
       "    </tr>\n",
       "    <tr>\n",
       "      <th>3</th>\n",
       "      <td>Opp GPO Civil Lines, Nagpur - MPCB</td>\n",
       "      <td>Nagpur</td>\n",
       "      <td>IN</td>\n",
       "      <td>2020-12-24T15:15:00Z</td>\n",
       "      <td>2020-12-24T20:45:00+05:30</td>\n",
       "      <td>pm25</td>\n",
       "      <td>86.84</td>\n",
       "      <td>µg/m³</td>\n",
       "      <td>21.152875</td>\n",
       "      <td>79.051753</td>\n",
       "      <td>[{\"url\":\"https://app.cpcbccr.com/ccr/#/caaqm-d...</td>\n",
       "    </tr>\n",
       "    <tr>\n",
       "      <th>4</th>\n",
       "      <td>Opp GPO Civil Lines, Nagpur - MPCB</td>\n",
       "      <td>Nagpur</td>\n",
       "      <td>IN</td>\n",
       "      <td>2020-12-24T13:00:00Z</td>\n",
       "      <td>2020-12-24T18:30:00+05:30</td>\n",
       "      <td>pm25</td>\n",
       "      <td>57.82</td>\n",
       "      <td>µg/m³</td>\n",
       "      <td>21.152875</td>\n",
       "      <td>79.051753</td>\n",
       "      <td>[{\"url\":\"https://app.cpcbccr.com/ccr/#/caaqm-d...</td>\n",
       "    </tr>\n",
       "  </tbody>\n",
       "</table>\n",
       "</div>"
      ],
      "text/plain": [
       "                             location    city country                   utc  \\\n",
       "0  Opp GPO Civil Lines, Nagpur - MPCB  Nagpur      IN  2020-12-24T17:45:00Z   \n",
       "1  Opp GPO Civil Lines, Nagpur - MPCB  Nagpur      IN  2020-12-24T17:15:00Z   \n",
       "2  Opp GPO Civil Lines, Nagpur - MPCB  Nagpur      IN  2020-12-24T16:45:00Z   \n",
       "3  Opp GPO Civil Lines, Nagpur - MPCB  Nagpur      IN  2020-12-24T15:15:00Z   \n",
       "4  Opp GPO Civil Lines, Nagpur - MPCB  Nagpur      IN  2020-12-24T13:00:00Z   \n",
       "\n",
       "                       local parameter   value   unit   latitude  longitude  \\\n",
       "0  2020-12-24T23:15:00+05:30      pm25  130.54  µg/m³  21.152875  79.051753   \n",
       "1  2020-12-24T22:45:00+05:30      pm25  103.87  µg/m³  21.152875  79.051753   \n",
       "2  2020-12-24T22:15:00+05:30      pm25  103.87  µg/m³  21.152875  79.051753   \n",
       "3  2020-12-24T20:45:00+05:30      pm25   86.84  µg/m³  21.152875  79.051753   \n",
       "4  2020-12-24T18:30:00+05:30      pm25   57.82  µg/m³  21.152875  79.051753   \n",
       "\n",
       "                                         attribution  \n",
       "0  [{\"url\":\"https://app.cpcbccr.com/ccr/#/caaqm-d...  \n",
       "1  [{\"url\":\"https://app.cpcbccr.com/ccr/#/caaqm-d...  \n",
       "2  [{\"url\":\"https://app.cpcbccr.com/ccr/#/caaqm-d...  \n",
       "3  [{\"url\":\"https://app.cpcbccr.com/ccr/#/caaqm-d...  \n",
       "4  [{\"url\":\"https://app.cpcbccr.com/ccr/#/caaqm-d...  "
      ]
     },
     "execution_count": 112,
     "metadata": {},
     "output_type": "execute_result"
    }
   ],
   "source": [
    "aq.head()"
   ]
  },
  {
   "cell_type": "code",
   "execution_count": 113,
   "metadata": {},
   "outputs": [
    {
     "data": {
      "text/html": [
       "<div>\n",
       "<style scoped>\n",
       "    .dataframe tbody tr th:only-of-type {\n",
       "        vertical-align: middle;\n",
       "    }\n",
       "\n",
       "    .dataframe tbody tr th {\n",
       "        vertical-align: top;\n",
       "    }\n",
       "\n",
       "    .dataframe thead th {\n",
       "        text-align: right;\n",
       "    }\n",
       "</style>\n",
       "<table border=\"1\" class=\"dataframe\">\n",
       "  <thead>\n",
       "    <tr style=\"text-align: right;\">\n",
       "      <th></th>\n",
       "      <th>location</th>\n",
       "      <th>city</th>\n",
       "      <th>country</th>\n",
       "      <th>utc</th>\n",
       "      <th>local</th>\n",
       "      <th>parameter</th>\n",
       "      <th>value</th>\n",
       "      <th>unit</th>\n",
       "      <th>latitude</th>\n",
       "      <th>longitude</th>\n",
       "      <th>attribution</th>\n",
       "    </tr>\n",
       "  </thead>\n",
       "  <tbody>\n",
       "    <tr>\n",
       "      <th>12223</th>\n",
       "      <td>Opp GPO Civil Lines, Nagpur - MPCB</td>\n",
       "      <td>Nagpur</td>\n",
       "      <td>IN</td>\n",
       "      <td>2020-01-01T01:00:00Z</td>\n",
       "      <td>2020-01-01T06:30:00+05:30</td>\n",
       "      <td>pm25</td>\n",
       "      <td>28.17</td>\n",
       "      <td>µg/m³</td>\n",
       "      <td>21.152875</td>\n",
       "      <td>79.051753</td>\n",
       "      <td>[{\"url\":\"https://app.cpcbccr.com/ccr/#/caaqm-d...</td>\n",
       "    </tr>\n",
       "    <tr>\n",
       "      <th>12224</th>\n",
       "      <td>Opp GPO Civil Lines, Nagpur - MPCB</td>\n",
       "      <td>Nagpur</td>\n",
       "      <td>IN</td>\n",
       "      <td>2020-01-01T00:45:00Z</td>\n",
       "      <td>2020-01-01T06:15:00+05:30</td>\n",
       "      <td>pm25</td>\n",
       "      <td>28.17</td>\n",
       "      <td>µg/m³</td>\n",
       "      <td>21.152875</td>\n",
       "      <td>79.051753</td>\n",
       "      <td>[{\"url\":\"https://app.cpcbccr.com/ccr/#/caaqm-d...</td>\n",
       "    </tr>\n",
       "    <tr>\n",
       "      <th>12225</th>\n",
       "      <td>Opp GPO Civil Lines, Nagpur - MPCB</td>\n",
       "      <td>Nagpur</td>\n",
       "      <td>IN</td>\n",
       "      <td>2020-01-01T00:30:00Z</td>\n",
       "      <td>2020-01-01T06:00:00+05:30</td>\n",
       "      <td>pm25</td>\n",
       "      <td>28.17</td>\n",
       "      <td>µg/m³</td>\n",
       "      <td>21.152875</td>\n",
       "      <td>79.051753</td>\n",
       "      <td>[{\"url\":\"https://app.cpcbccr.com/ccr/#/caaqm-d...</td>\n",
       "    </tr>\n",
       "    <tr>\n",
       "      <th>12226</th>\n",
       "      <td>Opp GPO Civil Lines, Nagpur - MPCB</td>\n",
       "      <td>Nagpur</td>\n",
       "      <td>IN</td>\n",
       "      <td>2020-01-01T00:15:00Z</td>\n",
       "      <td>2020-01-01T05:45:00+05:30</td>\n",
       "      <td>pm25</td>\n",
       "      <td>0.00</td>\n",
       "      <td>µg/m³</td>\n",
       "      <td>21.152875</td>\n",
       "      <td>79.051753</td>\n",
       "      <td>[{\"url\":\"https://app.cpcbccr.com/ccr/#/caaqm-d...</td>\n",
       "    </tr>\n",
       "    <tr>\n",
       "      <th>12227</th>\n",
       "      <td>Opp GPO Civil Lines, Nagpur - MPCB</td>\n",
       "      <td>Nagpur</td>\n",
       "      <td>IN</td>\n",
       "      <td>2020-01-01T00:00:00Z</td>\n",
       "      <td>2020-01-01T05:30:00+05:30</td>\n",
       "      <td>pm25</td>\n",
       "      <td>28.64</td>\n",
       "      <td>µg/m³</td>\n",
       "      <td>21.152875</td>\n",
       "      <td>79.051753</td>\n",
       "      <td>[{\"url\":\"https://app.cpcbccr.com/ccr/#/caaqm-d...</td>\n",
       "    </tr>\n",
       "  </tbody>\n",
       "</table>\n",
       "</div>"
      ],
      "text/plain": [
       "                                 location    city country  \\\n",
       "12223  Opp GPO Civil Lines, Nagpur - MPCB  Nagpur      IN   \n",
       "12224  Opp GPO Civil Lines, Nagpur - MPCB  Nagpur      IN   \n",
       "12225  Opp GPO Civil Lines, Nagpur - MPCB  Nagpur      IN   \n",
       "12226  Opp GPO Civil Lines, Nagpur - MPCB  Nagpur      IN   \n",
       "12227  Opp GPO Civil Lines, Nagpur - MPCB  Nagpur      IN   \n",
       "\n",
       "                        utc                      local parameter  value  \\\n",
       "12223  2020-01-01T01:00:00Z  2020-01-01T06:30:00+05:30      pm25  28.17   \n",
       "12224  2020-01-01T00:45:00Z  2020-01-01T06:15:00+05:30      pm25  28.17   \n",
       "12225  2020-01-01T00:30:00Z  2020-01-01T06:00:00+05:30      pm25  28.17   \n",
       "12226  2020-01-01T00:15:00Z  2020-01-01T05:45:00+05:30      pm25   0.00   \n",
       "12227  2020-01-01T00:00:00Z  2020-01-01T05:30:00+05:30      pm25  28.64   \n",
       "\n",
       "        unit   latitude  longitude  \\\n",
       "12223  µg/m³  21.152875  79.051753   \n",
       "12224  µg/m³  21.152875  79.051753   \n",
       "12225  µg/m³  21.152875  79.051753   \n",
       "12226  µg/m³  21.152875  79.051753   \n",
       "12227  µg/m³  21.152875  79.051753   \n",
       "\n",
       "                                             attribution  \n",
       "12223  [{\"url\":\"https://app.cpcbccr.com/ccr/#/caaqm-d...  \n",
       "12224  [{\"url\":\"https://app.cpcbccr.com/ccr/#/caaqm-d...  \n",
       "12225  [{\"url\":\"https://app.cpcbccr.com/ccr/#/caaqm-d...  \n",
       "12226  [{\"url\":\"https://app.cpcbccr.com/ccr/#/caaqm-d...  \n",
       "12227  [{\"url\":\"https://app.cpcbccr.com/ccr/#/caaqm-d...  "
      ]
     },
     "execution_count": 113,
     "metadata": {},
     "output_type": "execute_result"
    }
   ],
   "source": [
    "aq.tail()"
   ]
  },
  {
   "cell_type": "markdown",
   "metadata": {},
   "source": [
    "### Checking for null values"
   ]
  },
  {
   "cell_type": "code",
   "execution_count": 114,
   "metadata": {},
   "outputs": [
    {
     "data": {
      "text/plain": [
       "location       0\n",
       "city           0\n",
       "country        0\n",
       "utc            0\n",
       "local          0\n",
       "parameter      0\n",
       "value          0\n",
       "unit           0\n",
       "latitude       0\n",
       "longitude      0\n",
       "attribution    0\n",
       "dtype: int64"
      ]
     },
     "execution_count": 114,
     "metadata": {},
     "output_type": "execute_result"
    }
   ],
   "source": [
    "aq.isnull().sum()"
   ]
  },
  {
   "cell_type": "markdown",
   "metadata": {},
   "source": [
    "### Data types"
   ]
  },
  {
   "cell_type": "code",
   "execution_count": 115,
   "metadata": {},
   "outputs": [
    {
     "data": {
      "text/plain": [
       "location        object\n",
       "city            object\n",
       "country         object\n",
       "utc             object\n",
       "local           object\n",
       "parameter       object\n",
       "value          float64\n",
       "unit            object\n",
       "latitude       float64\n",
       "longitude      float64\n",
       "attribution     object\n",
       "dtype: object"
      ]
     },
     "execution_count": 115,
     "metadata": {},
     "output_type": "execute_result"
    }
   ],
   "source": [
    "aq.dtypes"
   ]
  },
  {
   "cell_type": "markdown",
   "metadata": {},
   "source": [
    "### Total number of observations"
   ]
  },
  {
   "cell_type": "code",
   "execution_count": 21,
   "metadata": {},
   "outputs": [
    {
     "data": {
      "text/plain": [
       "(12228, 11)"
      ]
     },
     "execution_count": 21,
     "metadata": {},
     "output_type": "execute_result"
    }
   ],
   "source": [
    "aq.shape"
   ]
  },
  {
   "cell_type": "markdown",
   "metadata": {},
   "source": [
    "### All columns in data"
   ]
  },
  {
   "cell_type": "code",
   "execution_count": 22,
   "metadata": {},
   "outputs": [
    {
     "data": {
      "text/plain": [
       "Index(['location', 'city', 'country', 'utc', 'local', 'parameter', 'value',\n",
       "       'unit', 'latitude', 'longitude', 'attribution'],\n",
       "      dtype='object')"
      ]
     },
     "execution_count": 22,
     "metadata": {},
     "output_type": "execute_result"
    }
   ],
   "source": [
    "aq.columns"
   ]
  },
  {
   "cell_type": "markdown",
   "metadata": {},
   "source": [
    "### Segregating the data wrt to pm2.5 parameter, unit is µg/m³, considering only local timestamp and pm25 value"
   ]
  },
  {
   "cell_type": "code",
   "execution_count": 23,
   "metadata": {},
   "outputs": [
    {
     "data": {
      "text/html": [
       "<div>\n",
       "<style scoped>\n",
       "    .dataframe tbody tr th:only-of-type {\n",
       "        vertical-align: middle;\n",
       "    }\n",
       "\n",
       "    .dataframe tbody tr th {\n",
       "        vertical-align: top;\n",
       "    }\n",
       "\n",
       "    .dataframe thead th {\n",
       "        text-align: right;\n",
       "    }\n",
       "</style>\n",
       "<table border=\"1\" class=\"dataframe\">\n",
       "  <thead>\n",
       "    <tr style=\"text-align: right;\">\n",
       "      <th></th>\n",
       "      <th>local</th>\n",
       "      <th>value</th>\n",
       "    </tr>\n",
       "  </thead>\n",
       "  <tbody>\n",
       "    <tr>\n",
       "      <th>0</th>\n",
       "      <td>2020-12-24T23:15:00+05:30</td>\n",
       "      <td>130.54</td>\n",
       "    </tr>\n",
       "    <tr>\n",
       "      <th>1</th>\n",
       "      <td>2020-12-24T22:45:00+05:30</td>\n",
       "      <td>103.87</td>\n",
       "    </tr>\n",
       "    <tr>\n",
       "      <th>2</th>\n",
       "      <td>2020-12-24T22:15:00+05:30</td>\n",
       "      <td>103.87</td>\n",
       "    </tr>\n",
       "    <tr>\n",
       "      <th>3</th>\n",
       "      <td>2020-12-24T20:45:00+05:30</td>\n",
       "      <td>86.84</td>\n",
       "    </tr>\n",
       "    <tr>\n",
       "      <th>4</th>\n",
       "      <td>2020-12-24T18:30:00+05:30</td>\n",
       "      <td>57.82</td>\n",
       "    </tr>\n",
       "  </tbody>\n",
       "</table>\n",
       "</div>"
      ],
      "text/plain": [
       "                       local   value\n",
       "0  2020-12-24T23:15:00+05:30  130.54\n",
       "1  2020-12-24T22:45:00+05:30  103.87\n",
       "2  2020-12-24T22:15:00+05:30  103.87\n",
       "3  2020-12-24T20:45:00+05:30   86.84\n",
       "4  2020-12-24T18:30:00+05:30   57.82"
      ]
     },
     "execution_count": 23,
     "metadata": {},
     "output_type": "execute_result"
    }
   ],
   "source": [
    "pm25_df = aq[['local','value']][aq['parameter'] == 'pm25']\n",
    "pm25_df.head()"
   ]
  },
  {
   "cell_type": "markdown",
   "metadata": {},
   "source": [
    "### Defining functions to extract day, month, year and time"
   ]
  },
  {
   "cell_type": "code",
   "execution_count": 24,
   "metadata": {},
   "outputs": [],
   "source": [
    "pm25_df['year'] = list(map(lambda x:x[0:4], pm25_df['local']))"
   ]
  },
  {
   "cell_type": "code",
   "execution_count": 25,
   "metadata": {},
   "outputs": [],
   "source": [
    "pm25_df['month'] = list(map(lambda x:x[5:7], pm25_df['local']))"
   ]
  },
  {
   "cell_type": "code",
   "execution_count": 26,
   "metadata": {},
   "outputs": [],
   "source": [
    "pm25_df['date'] = list(map(lambda x:x[8:10], pm25_df['local']))"
   ]
  },
  {
   "cell_type": "code",
   "execution_count": 27,
   "metadata": {},
   "outputs": [],
   "source": [
    "pm25_df['time'] = list(map(lambda x:x[11:16], pm25_df['local']))"
   ]
  },
  {
   "cell_type": "code",
   "execution_count": 28,
   "metadata": {},
   "outputs": [
    {
     "data": {
      "text/html": [
       "<div>\n",
       "<style scoped>\n",
       "    .dataframe tbody tr th:only-of-type {\n",
       "        vertical-align: middle;\n",
       "    }\n",
       "\n",
       "    .dataframe tbody tr th {\n",
       "        vertical-align: top;\n",
       "    }\n",
       "\n",
       "    .dataframe thead th {\n",
       "        text-align: right;\n",
       "    }\n",
       "</style>\n",
       "<table border=\"1\" class=\"dataframe\">\n",
       "  <thead>\n",
       "    <tr style=\"text-align: right;\">\n",
       "      <th></th>\n",
       "      <th>local</th>\n",
       "      <th>value</th>\n",
       "      <th>year</th>\n",
       "      <th>month</th>\n",
       "      <th>date</th>\n",
       "      <th>time</th>\n",
       "    </tr>\n",
       "  </thead>\n",
       "  <tbody>\n",
       "    <tr>\n",
       "      <th>0</th>\n",
       "      <td>2020-12-24T23:15:00+05:30</td>\n",
       "      <td>130.54</td>\n",
       "      <td>2020</td>\n",
       "      <td>12</td>\n",
       "      <td>24</td>\n",
       "      <td>23:15</td>\n",
       "    </tr>\n",
       "    <tr>\n",
       "      <th>1</th>\n",
       "      <td>2020-12-24T22:45:00+05:30</td>\n",
       "      <td>103.87</td>\n",
       "      <td>2020</td>\n",
       "      <td>12</td>\n",
       "      <td>24</td>\n",
       "      <td>22:45</td>\n",
       "    </tr>\n",
       "    <tr>\n",
       "      <th>2</th>\n",
       "      <td>2020-12-24T22:15:00+05:30</td>\n",
       "      <td>103.87</td>\n",
       "      <td>2020</td>\n",
       "      <td>12</td>\n",
       "      <td>24</td>\n",
       "      <td>22:15</td>\n",
       "    </tr>\n",
       "    <tr>\n",
       "      <th>3</th>\n",
       "      <td>2020-12-24T20:45:00+05:30</td>\n",
       "      <td>86.84</td>\n",
       "      <td>2020</td>\n",
       "      <td>12</td>\n",
       "      <td>24</td>\n",
       "      <td>20:45</td>\n",
       "    </tr>\n",
       "    <tr>\n",
       "      <th>4</th>\n",
       "      <td>2020-12-24T18:30:00+05:30</td>\n",
       "      <td>57.82</td>\n",
       "      <td>2020</td>\n",
       "      <td>12</td>\n",
       "      <td>24</td>\n",
       "      <td>18:30</td>\n",
       "    </tr>\n",
       "  </tbody>\n",
       "</table>\n",
       "</div>"
      ],
      "text/plain": [
       "                       local   value  year month date   time\n",
       "0  2020-12-24T23:15:00+05:30  130.54  2020    12   24  23:15\n",
       "1  2020-12-24T22:45:00+05:30  103.87  2020    12   24  22:45\n",
       "2  2020-12-24T22:15:00+05:30  103.87  2020    12   24  22:15\n",
       "3  2020-12-24T20:45:00+05:30   86.84  2020    12   24  20:45\n",
       "4  2020-12-24T18:30:00+05:30   57.82  2020    12   24  18:30"
      ]
     },
     "execution_count": 28,
     "metadata": {},
     "output_type": "execute_result"
    }
   ],
   "source": [
    "pm25_df.head()"
   ]
  },
  {
   "cell_type": "code",
   "execution_count": 29,
   "metadata": {},
   "outputs": [],
   "source": [
    "pm25_df.drop(columns = ['local'], axis = 1, inplace=True)"
   ]
  },
  {
   "cell_type": "code",
   "execution_count": 30,
   "metadata": {},
   "outputs": [
    {
     "data": {
      "text/html": [
       "<div>\n",
       "<style scoped>\n",
       "    .dataframe tbody tr th:only-of-type {\n",
       "        vertical-align: middle;\n",
       "    }\n",
       "\n",
       "    .dataframe tbody tr th {\n",
       "        vertical-align: top;\n",
       "    }\n",
       "\n",
       "    .dataframe thead th {\n",
       "        text-align: right;\n",
       "    }\n",
       "</style>\n",
       "<table border=\"1\" class=\"dataframe\">\n",
       "  <thead>\n",
       "    <tr style=\"text-align: right;\">\n",
       "      <th></th>\n",
       "      <th>value</th>\n",
       "      <th>year</th>\n",
       "      <th>month</th>\n",
       "      <th>date</th>\n",
       "      <th>time</th>\n",
       "    </tr>\n",
       "  </thead>\n",
       "  <tbody>\n",
       "    <tr>\n",
       "      <th>0</th>\n",
       "      <td>130.54</td>\n",
       "      <td>2020</td>\n",
       "      <td>12</td>\n",
       "      <td>24</td>\n",
       "      <td>23:15</td>\n",
       "    </tr>\n",
       "    <tr>\n",
       "      <th>1</th>\n",
       "      <td>103.87</td>\n",
       "      <td>2020</td>\n",
       "      <td>12</td>\n",
       "      <td>24</td>\n",
       "      <td>22:45</td>\n",
       "    </tr>\n",
       "    <tr>\n",
       "      <th>2</th>\n",
       "      <td>103.87</td>\n",
       "      <td>2020</td>\n",
       "      <td>12</td>\n",
       "      <td>24</td>\n",
       "      <td>22:15</td>\n",
       "    </tr>\n",
       "    <tr>\n",
       "      <th>3</th>\n",
       "      <td>86.84</td>\n",
       "      <td>2020</td>\n",
       "      <td>12</td>\n",
       "      <td>24</td>\n",
       "      <td>20:45</td>\n",
       "    </tr>\n",
       "    <tr>\n",
       "      <th>4</th>\n",
       "      <td>57.82</td>\n",
       "      <td>2020</td>\n",
       "      <td>12</td>\n",
       "      <td>24</td>\n",
       "      <td>18:30</td>\n",
       "    </tr>\n",
       "  </tbody>\n",
       "</table>\n",
       "</div>"
      ],
      "text/plain": [
       "    value  year month date   time\n",
       "0  130.54  2020    12   24  23:15\n",
       "1  103.87  2020    12   24  22:45\n",
       "2  103.87  2020    12   24  22:15\n",
       "3   86.84  2020    12   24  20:45\n",
       "4   57.82  2020    12   24  18:30"
      ]
     },
     "execution_count": 30,
     "metadata": {},
     "output_type": "execute_result"
    }
   ],
   "source": [
    "pm25_df.head()"
   ]
  },
  {
   "cell_type": "code",
   "execution_count": 31,
   "metadata": {},
   "outputs": [
    {
     "data": {
      "text/html": [
       "<div>\n",
       "<style scoped>\n",
       "    .dataframe tbody tr th:only-of-type {\n",
       "        vertical-align: middle;\n",
       "    }\n",
       "\n",
       "    .dataframe tbody tr th {\n",
       "        vertical-align: top;\n",
       "    }\n",
       "\n",
       "    .dataframe thead th {\n",
       "        text-align: right;\n",
       "    }\n",
       "</style>\n",
       "<table border=\"1\" class=\"dataframe\">\n",
       "  <thead>\n",
       "    <tr style=\"text-align: right;\">\n",
       "      <th></th>\n",
       "      <th>value</th>\n",
       "      <th>year</th>\n",
       "      <th>month</th>\n",
       "      <th>date</th>\n",
       "      <th>time</th>\n",
       "    </tr>\n",
       "  </thead>\n",
       "  <tbody>\n",
       "    <tr>\n",
       "      <th>12223</th>\n",
       "      <td>28.17</td>\n",
       "      <td>2020</td>\n",
       "      <td>01</td>\n",
       "      <td>01</td>\n",
       "      <td>06:30</td>\n",
       "    </tr>\n",
       "    <tr>\n",
       "      <th>12224</th>\n",
       "      <td>28.17</td>\n",
       "      <td>2020</td>\n",
       "      <td>01</td>\n",
       "      <td>01</td>\n",
       "      <td>06:15</td>\n",
       "    </tr>\n",
       "    <tr>\n",
       "      <th>12225</th>\n",
       "      <td>28.17</td>\n",
       "      <td>2020</td>\n",
       "      <td>01</td>\n",
       "      <td>01</td>\n",
       "      <td>06:00</td>\n",
       "    </tr>\n",
       "    <tr>\n",
       "      <th>12226</th>\n",
       "      <td>0.00</td>\n",
       "      <td>2020</td>\n",
       "      <td>01</td>\n",
       "      <td>01</td>\n",
       "      <td>05:45</td>\n",
       "    </tr>\n",
       "    <tr>\n",
       "      <th>12227</th>\n",
       "      <td>28.64</td>\n",
       "      <td>2020</td>\n",
       "      <td>01</td>\n",
       "      <td>01</td>\n",
       "      <td>05:30</td>\n",
       "    </tr>\n",
       "  </tbody>\n",
       "</table>\n",
       "</div>"
      ],
      "text/plain": [
       "       value  year month date   time\n",
       "12223  28.17  2020    01   01  06:30\n",
       "12224  28.17  2020    01   01  06:15\n",
       "12225  28.17  2020    01   01  06:00\n",
       "12226   0.00  2020    01   01  05:45\n",
       "12227  28.64  2020    01   01  05:30"
      ]
     },
     "execution_count": 31,
     "metadata": {},
     "output_type": "execute_result"
    }
   ],
   "source": [
    "pm25_df.tail()"
   ]
  },
  {
   "cell_type": "code",
   "execution_count": 32,
   "metadata": {},
   "outputs": [
    {
     "data": {
      "text/plain": [
       "(12228, 5)"
      ]
     },
     "execution_count": 32,
     "metadata": {},
     "output_type": "execute_result"
    }
   ],
   "source": [
    "pm25_df.shape"
   ]
  },
  {
   "cell_type": "code",
   "execution_count": 33,
   "metadata": {},
   "outputs": [
    {
     "data": {
      "text/plain": [
       "array(['12', '11', '10', '09', '08', '07', '06', '05', '04', '03', '02',\n",
       "       '01'], dtype=object)"
      ]
     },
     "execution_count": 33,
     "metadata": {},
     "output_type": "execute_result"
    }
   ],
   "source": [
    "pm25_df['month'].unique()"
   ]
  },
  {
   "cell_type": "markdown",
   "metadata": {},
   "source": [
    "### Pivot table"
   ]
  },
  {
   "cell_type": "code",
   "execution_count": 34,
   "metadata": {},
   "outputs": [
    {
     "data": {
      "text/html": [
       "<div>\n",
       "<style scoped>\n",
       "    .dataframe tbody tr th:only-of-type {\n",
       "        vertical-align: middle;\n",
       "    }\n",
       "\n",
       "    .dataframe tbody tr th {\n",
       "        vertical-align: top;\n",
       "    }\n",
       "\n",
       "    .dataframe thead th {\n",
       "        text-align: right;\n",
       "    }\n",
       "</style>\n",
       "<table border=\"1\" class=\"dataframe\">\n",
       "  <thead>\n",
       "    <tr style=\"text-align: right;\">\n",
       "      <th>month</th>\n",
       "      <th>01</th>\n",
       "      <th>02</th>\n",
       "      <th>03</th>\n",
       "      <th>04</th>\n",
       "      <th>05</th>\n",
       "      <th>06</th>\n",
       "      <th>07</th>\n",
       "      <th>08</th>\n",
       "      <th>09</th>\n",
       "      <th>10</th>\n",
       "      <th>11</th>\n",
       "      <th>12</th>\n",
       "    </tr>\n",
       "    <tr>\n",
       "      <th>date</th>\n",
       "      <th></th>\n",
       "      <th></th>\n",
       "      <th></th>\n",
       "      <th></th>\n",
       "      <th></th>\n",
       "      <th></th>\n",
       "      <th></th>\n",
       "      <th></th>\n",
       "      <th></th>\n",
       "      <th></th>\n",
       "      <th></th>\n",
       "      <th></th>\n",
       "    </tr>\n",
       "  </thead>\n",
       "  <tbody>\n",
       "    <tr>\n",
       "      <th>01</th>\n",
       "      <td>28.601905</td>\n",
       "      <td>28.297222</td>\n",
       "      <td>37.770500</td>\n",
       "      <td>16.473412</td>\n",
       "      <td>34.242045</td>\n",
       "      <td>11.458333</td>\n",
       "      <td>17.740909</td>\n",
       "      <td>0.000000</td>\n",
       "      <td>0.000000</td>\n",
       "      <td>29.723571</td>\n",
       "      <td>72.083333</td>\n",
       "      <td>40.814000</td>\n",
       "    </tr>\n",
       "    <tr>\n",
       "      <th>02</th>\n",
       "      <td>29.340241</td>\n",
       "      <td>17.312857</td>\n",
       "      <td>28.196173</td>\n",
       "      <td>22.605747</td>\n",
       "      <td>36.230000</td>\n",
       "      <td>9.818125</td>\n",
       "      <td>16.808286</td>\n",
       "      <td>0.000000</td>\n",
       "      <td>0.000000</td>\n",
       "      <td>28.300526</td>\n",
       "      <td>84.994687</td>\n",
       "      <td>47.117778</td>\n",
       "    </tr>\n",
       "    <tr>\n",
       "      <th>03</th>\n",
       "      <td>48.465065</td>\n",
       "      <td>470.869388</td>\n",
       "      <td>39.747885</td>\n",
       "      <td>24.066452</td>\n",
       "      <td>33.883947</td>\n",
       "      <td>9.568387</td>\n",
       "      <td>13.618421</td>\n",
       "      <td>0.000000</td>\n",
       "      <td>0.000000</td>\n",
       "      <td>35.232000</td>\n",
       "      <td>79.502778</td>\n",
       "      <td>72.895000</td>\n",
       "    </tr>\n",
       "    <tr>\n",
       "      <th>04</th>\n",
       "      <td>55.353333</td>\n",
       "      <td>50.289765</td>\n",
       "      <td>24.946471</td>\n",
       "      <td>26.596848</td>\n",
       "      <td>20.914324</td>\n",
       "      <td>8.788400</td>\n",
       "      <td>19.585517</td>\n",
       "      <td>1.010000</td>\n",
       "      <td>38.790000</td>\n",
       "      <td>30.160000</td>\n",
       "      <td>67.090000</td>\n",
       "      <td>43.312000</td>\n",
       "    </tr>\n",
       "    <tr>\n",
       "      <th>05</th>\n",
       "      <td>31.168780</td>\n",
       "      <td>46.664054</td>\n",
       "      <td>33.637500</td>\n",
       "      <td>16.441739</td>\n",
       "      <td>25.959286</td>\n",
       "      <td>4.730000</td>\n",
       "      <td>8.705172</td>\n",
       "      <td>19.300000</td>\n",
       "      <td>0.000000</td>\n",
       "      <td>26.835556</td>\n",
       "      <td>51.220000</td>\n",
       "      <td>48.043846</td>\n",
       "    </tr>\n",
       "    <tr>\n",
       "      <th>06</th>\n",
       "      <td>28.489324</td>\n",
       "      <td>38.390506</td>\n",
       "      <td>26.040115</td>\n",
       "      <td>25.303333</td>\n",
       "      <td>0.000000</td>\n",
       "      <td>35.935714</td>\n",
       "      <td>0.000000</td>\n",
       "      <td>10.470179</td>\n",
       "      <td>31.530000</td>\n",
       "      <td>38.827692</td>\n",
       "      <td>56.808947</td>\n",
       "      <td>70.170909</td>\n",
       "    </tr>\n",
       "    <tr>\n",
       "      <th>07</th>\n",
       "      <td>48.334886</td>\n",
       "      <td>37.362907</td>\n",
       "      <td>42.956477</td>\n",
       "      <td>25.804918</td>\n",
       "      <td>18.473750</td>\n",
       "      <td>20.820000</td>\n",
       "      <td>14.795000</td>\n",
       "      <td>18.195652</td>\n",
       "      <td>9.800000</td>\n",
       "      <td>38.977619</td>\n",
       "      <td>52.919231</td>\n",
       "      <td>67.509000</td>\n",
       "    </tr>\n",
       "    <tr>\n",
       "      <th>08</th>\n",
       "      <td>45.821613</td>\n",
       "      <td>35.732889</td>\n",
       "      <td>23.419063</td>\n",
       "      <td>18.447778</td>\n",
       "      <td>22.956333</td>\n",
       "      <td>21.357949</td>\n",
       "      <td>0.000000</td>\n",
       "      <td>36.463333</td>\n",
       "      <td>0.000000</td>\n",
       "      <td>31.468000</td>\n",
       "      <td>81.587500</td>\n",
       "      <td>63.482857</td>\n",
       "    </tr>\n",
       "    <tr>\n",
       "      <th>09</th>\n",
       "      <td>38.838272</td>\n",
       "      <td>29.580909</td>\n",
       "      <td>0.000000</td>\n",
       "      <td>24.895385</td>\n",
       "      <td>19.729643</td>\n",
       "      <td>19.476098</td>\n",
       "      <td>0.000000</td>\n",
       "      <td>12.440000</td>\n",
       "      <td>62.420000</td>\n",
       "      <td>33.785000</td>\n",
       "      <td>76.456471</td>\n",
       "      <td>55.288333</td>\n",
       "    </tr>\n",
       "    <tr>\n",
       "      <th>10</th>\n",
       "      <td>23.031566</td>\n",
       "      <td>0.000000</td>\n",
       "      <td>0.000000</td>\n",
       "      <td>23.444944</td>\n",
       "      <td>14.428846</td>\n",
       "      <td>12.532051</td>\n",
       "      <td>0.000000</td>\n",
       "      <td>17.456000</td>\n",
       "      <td>23.570000</td>\n",
       "      <td>35.883333</td>\n",
       "      <td>72.644000</td>\n",
       "      <td>51.684000</td>\n",
       "    </tr>\n",
       "    <tr>\n",
       "      <th>11</th>\n",
       "      <td>33.511647</td>\n",
       "      <td>56.379600</td>\n",
       "      <td>24.703824</td>\n",
       "      <td>20.882381</td>\n",
       "      <td>15.161290</td>\n",
       "      <td>17.871795</td>\n",
       "      <td>0.000000</td>\n",
       "      <td>21.896667</td>\n",
       "      <td>4.770000</td>\n",
       "      <td>18.504000</td>\n",
       "      <td>59.918095</td>\n",
       "      <td>64.065714</td>\n",
       "    </tr>\n",
       "    <tr>\n",
       "      <th>12</th>\n",
       "      <td>864.384419</td>\n",
       "      <td>45.702576</td>\n",
       "      <td>20.342911</td>\n",
       "      <td>23.146023</td>\n",
       "      <td>17.251212</td>\n",
       "      <td>20.991290</td>\n",
       "      <td>0.000000</td>\n",
       "      <td>0.000000</td>\n",
       "      <td>7.928000</td>\n",
       "      <td>53.325000</td>\n",
       "      <td>45.025789</td>\n",
       "      <td>70.512000</td>\n",
       "    </tr>\n",
       "    <tr>\n",
       "      <th>13</th>\n",
       "      <td>318.503286</td>\n",
       "      <td>32.264000</td>\n",
       "      <td>18.895789</td>\n",
       "      <td>27.316522</td>\n",
       "      <td>15.360000</td>\n",
       "      <td>26.836842</td>\n",
       "      <td>19.750000</td>\n",
       "      <td>15.235000</td>\n",
       "      <td>26.478750</td>\n",
       "      <td>18.780000</td>\n",
       "      <td>34.986667</td>\n",
       "      <td>56.720000</td>\n",
       "    </tr>\n",
       "    <tr>\n",
       "      <th>14</th>\n",
       "      <td>51.313158</td>\n",
       "      <td>20.915373</td>\n",
       "      <td>0.000000</td>\n",
       "      <td>23.821848</td>\n",
       "      <td>20.673704</td>\n",
       "      <td>13.238889</td>\n",
       "      <td>22.912297</td>\n",
       "      <td>4.547500</td>\n",
       "      <td>12.327500</td>\n",
       "      <td>18.124000</td>\n",
       "      <td>58.622727</td>\n",
       "      <td>59.749091</td>\n",
       "    </tr>\n",
       "    <tr>\n",
       "      <th>15</th>\n",
       "      <td>51.345789</td>\n",
       "      <td>37.962909</td>\n",
       "      <td>0.000000</td>\n",
       "      <td>22.733218</td>\n",
       "      <td>18.486000</td>\n",
       "      <td>11.623714</td>\n",
       "      <td>8.802424</td>\n",
       "      <td>0.000000</td>\n",
       "      <td>21.945000</td>\n",
       "      <td>27.332000</td>\n",
       "      <td>48.317500</td>\n",
       "      <td>99.614286</td>\n",
       "    </tr>\n",
       "    <tr>\n",
       "      <th>16</th>\n",
       "      <td>43.751646</td>\n",
       "      <td>34.014237</td>\n",
       "      <td>38.225870</td>\n",
       "      <td>19.476882</td>\n",
       "      <td>19.845581</td>\n",
       "      <td>9.855500</td>\n",
       "      <td>13.634386</td>\n",
       "      <td>9.546667</td>\n",
       "      <td>20.618333</td>\n",
       "      <td>23.014286</td>\n",
       "      <td>78.480769</td>\n",
       "      <td>104.325000</td>\n",
       "    </tr>\n",
       "    <tr>\n",
       "      <th>17</th>\n",
       "      <td>36.186235</td>\n",
       "      <td>45.886923</td>\n",
       "      <td>25.522651</td>\n",
       "      <td>29.968804</td>\n",
       "      <td>20.622973</td>\n",
       "      <td>14.662632</td>\n",
       "      <td>12.228281</td>\n",
       "      <td>15.307500</td>\n",
       "      <td>26.248000</td>\n",
       "      <td>28.071538</td>\n",
       "      <td>60.912857</td>\n",
       "      <td>104.652000</td>\n",
       "    </tr>\n",
       "    <tr>\n",
       "      <th>18</th>\n",
       "      <td>36.027302</td>\n",
       "      <td>26.661176</td>\n",
       "      <td>25.338226</td>\n",
       "      <td>30.910989</td>\n",
       "      <td>17.946364</td>\n",
       "      <td>11.765789</td>\n",
       "      <td>15.386145</td>\n",
       "      <td>5.915000</td>\n",
       "      <td>15.987500</td>\n",
       "      <td>31.147143</td>\n",
       "      <td>44.325714</td>\n",
       "      <td>73.240000</td>\n",
       "    </tr>\n",
       "    <tr>\n",
       "      <th>19</th>\n",
       "      <td>237.261807</td>\n",
       "      <td>32.113974</td>\n",
       "      <td>24.335366</td>\n",
       "      <td>19.302000</td>\n",
       "      <td>22.533846</td>\n",
       "      <td>17.734103</td>\n",
       "      <td>15.063333</td>\n",
       "      <td>16.780000</td>\n",
       "      <td>15.695000</td>\n",
       "      <td>35.624000</td>\n",
       "      <td>31.404000</td>\n",
       "      <td>58.292667</td>\n",
       "    </tr>\n",
       "    <tr>\n",
       "      <th>20</th>\n",
       "      <td>262.628736</td>\n",
       "      <td>35.845312</td>\n",
       "      <td>24.341020</td>\n",
       "      <td>9.370805</td>\n",
       "      <td>23.334324</td>\n",
       "      <td>16.049211</td>\n",
       "      <td>19.598889</td>\n",
       "      <td>0.000000</td>\n",
       "      <td>23.624000</td>\n",
       "      <td>53.217500</td>\n",
       "      <td>32.956429</td>\n",
       "      <td>34.899000</td>\n",
       "    </tr>\n",
       "    <tr>\n",
       "      <th>21</th>\n",
       "      <td>52.995795</td>\n",
       "      <td>36.684915</td>\n",
       "      <td>22.730000</td>\n",
       "      <td>14.925714</td>\n",
       "      <td>17.354750</td>\n",
       "      <td>20.108438</td>\n",
       "      <td>16.105604</td>\n",
       "      <td>0.000000</td>\n",
       "      <td>31.005000</td>\n",
       "      <td>71.138000</td>\n",
       "      <td>67.348000</td>\n",
       "      <td>38.078333</td>\n",
       "    </tr>\n",
       "    <tr>\n",
       "      <th>22</th>\n",
       "      <td>46.106000</td>\n",
       "      <td>36.902281</td>\n",
       "      <td>18.301509</td>\n",
       "      <td>27.077727</td>\n",
       "      <td>21.157576</td>\n",
       "      <td>18.779333</td>\n",
       "      <td>18.490000</td>\n",
       "      <td>10.060000</td>\n",
       "      <td>25.330000</td>\n",
       "      <td>55.868571</td>\n",
       "      <td>49.319000</td>\n",
       "      <td>24.930000</td>\n",
       "    </tr>\n",
       "    <tr>\n",
       "      <th>23</th>\n",
       "      <td>137.303684</td>\n",
       "      <td>33.350484</td>\n",
       "      <td>21.202222</td>\n",
       "      <td>22.999423</td>\n",
       "      <td>22.479444</td>\n",
       "      <td>21.835000</td>\n",
       "      <td>11.482000</td>\n",
       "      <td>4.460000</td>\n",
       "      <td>11.485000</td>\n",
       "      <td>60.618824</td>\n",
       "      <td>80.408333</td>\n",
       "      <td>35.470000</td>\n",
       "    </tr>\n",
       "    <tr>\n",
       "      <th>24</th>\n",
       "      <td>323.973614</td>\n",
       "      <td>37.658875</td>\n",
       "      <td>22.090676</td>\n",
       "      <td>27.852000</td>\n",
       "      <td>19.764419</td>\n",
       "      <td>27.299783</td>\n",
       "      <td>15.455217</td>\n",
       "      <td>9.206667</td>\n",
       "      <td>11.315000</td>\n",
       "      <td>65.259231</td>\n",
       "      <td>42.240000</td>\n",
       "      <td>76.009167</td>\n",
       "    </tr>\n",
       "    <tr>\n",
       "      <th>25</th>\n",
       "      <td>-1.046556</td>\n",
       "      <td>32.969733</td>\n",
       "      <td>16.016250</td>\n",
       "      <td>0.000000</td>\n",
       "      <td>22.924474</td>\n",
       "      <td>20.855000</td>\n",
       "      <td>13.394933</td>\n",
       "      <td>0.000000</td>\n",
       "      <td>36.484167</td>\n",
       "      <td>11.783704</td>\n",
       "      <td>0.000000</td>\n",
       "      <td>0.000000</td>\n",
       "    </tr>\n",
       "    <tr>\n",
       "      <th>26</th>\n",
       "      <td>28.127465</td>\n",
       "      <td>19.090741</td>\n",
       "      <td>20.836667</td>\n",
       "      <td>13.633261</td>\n",
       "      <td>24.548333</td>\n",
       "      <td>11.348333</td>\n",
       "      <td>11.367213</td>\n",
       "      <td>0.000000</td>\n",
       "      <td>30.630000</td>\n",
       "      <td>67.688000</td>\n",
       "      <td>91.695000</td>\n",
       "      <td>0.000000</td>\n",
       "    </tr>\n",
       "    <tr>\n",
       "      <th>27</th>\n",
       "      <td>30.436711</td>\n",
       "      <td>37.560000</td>\n",
       "      <td>23.441463</td>\n",
       "      <td>21.030238</td>\n",
       "      <td>16.255652</td>\n",
       "      <td>10.964595</td>\n",
       "      <td>11.748136</td>\n",
       "      <td>0.000000</td>\n",
       "      <td>21.470000</td>\n",
       "      <td>55.508000</td>\n",
       "      <td>38.110000</td>\n",
       "      <td>0.000000</td>\n",
       "    </tr>\n",
       "    <tr>\n",
       "      <th>28</th>\n",
       "      <td>38.759195</td>\n",
       "      <td>43.158333</td>\n",
       "      <td>21.729500</td>\n",
       "      <td>16.403409</td>\n",
       "      <td>17.862727</td>\n",
       "      <td>8.445946</td>\n",
       "      <td>14.225600</td>\n",
       "      <td>0.000000</td>\n",
       "      <td>25.225200</td>\n",
       "      <td>43.797857</td>\n",
       "      <td>49.877778</td>\n",
       "      <td>0.000000</td>\n",
       "    </tr>\n",
       "    <tr>\n",
       "      <th>29</th>\n",
       "      <td>23.135843</td>\n",
       "      <td>36.739636</td>\n",
       "      <td>20.674754</td>\n",
       "      <td>21.575312</td>\n",
       "      <td>25.143571</td>\n",
       "      <td>11.702500</td>\n",
       "      <td>15.629730</td>\n",
       "      <td>0.000000</td>\n",
       "      <td>37.020769</td>\n",
       "      <td>52.092500</td>\n",
       "      <td>49.658182</td>\n",
       "      <td>0.000000</td>\n",
       "    </tr>\n",
       "    <tr>\n",
       "      <th>30</th>\n",
       "      <td>16.302800</td>\n",
       "      <td>0.000000</td>\n",
       "      <td>18.559412</td>\n",
       "      <td>30.181389</td>\n",
       "      <td>35.750000</td>\n",
       "      <td>16.080000</td>\n",
       "      <td>31.428966</td>\n",
       "      <td>0.000000</td>\n",
       "      <td>16.077143</td>\n",
       "      <td>69.024000</td>\n",
       "      <td>65.331111</td>\n",
       "      <td>0.000000</td>\n",
       "    </tr>\n",
       "    <tr>\n",
       "      <th>31</th>\n",
       "      <td>41.544091</td>\n",
       "      <td>0.000000</td>\n",
       "      <td>15.657640</td>\n",
       "      <td>0.000000</td>\n",
       "      <td>26.998611</td>\n",
       "      <td>0.000000</td>\n",
       "      <td>37.183333</td>\n",
       "      <td>0.000000</td>\n",
       "      <td>0.000000</td>\n",
       "      <td>65.535000</td>\n",
       "      <td>0.000000</td>\n",
       "      <td>0.000000</td>\n",
       "    </tr>\n",
       "  </tbody>\n",
       "</table>\n",
       "</div>"
      ],
      "text/plain": [
       "month          01          02         03         04         05         06  \\\n",
       "date                                                                        \n",
       "01      28.601905   28.297222  37.770500  16.473412  34.242045  11.458333   \n",
       "02      29.340241   17.312857  28.196173  22.605747  36.230000   9.818125   \n",
       "03      48.465065  470.869388  39.747885  24.066452  33.883947   9.568387   \n",
       "04      55.353333   50.289765  24.946471  26.596848  20.914324   8.788400   \n",
       "05      31.168780   46.664054  33.637500  16.441739  25.959286   4.730000   \n",
       "06      28.489324   38.390506  26.040115  25.303333   0.000000  35.935714   \n",
       "07      48.334886   37.362907  42.956477  25.804918  18.473750  20.820000   \n",
       "08      45.821613   35.732889  23.419063  18.447778  22.956333  21.357949   \n",
       "09      38.838272   29.580909   0.000000  24.895385  19.729643  19.476098   \n",
       "10      23.031566    0.000000   0.000000  23.444944  14.428846  12.532051   \n",
       "11      33.511647   56.379600  24.703824  20.882381  15.161290  17.871795   \n",
       "12     864.384419   45.702576  20.342911  23.146023  17.251212  20.991290   \n",
       "13     318.503286   32.264000  18.895789  27.316522  15.360000  26.836842   \n",
       "14      51.313158   20.915373   0.000000  23.821848  20.673704  13.238889   \n",
       "15      51.345789   37.962909   0.000000  22.733218  18.486000  11.623714   \n",
       "16      43.751646   34.014237  38.225870  19.476882  19.845581   9.855500   \n",
       "17      36.186235   45.886923  25.522651  29.968804  20.622973  14.662632   \n",
       "18      36.027302   26.661176  25.338226  30.910989  17.946364  11.765789   \n",
       "19     237.261807   32.113974  24.335366  19.302000  22.533846  17.734103   \n",
       "20     262.628736   35.845312  24.341020   9.370805  23.334324  16.049211   \n",
       "21      52.995795   36.684915  22.730000  14.925714  17.354750  20.108438   \n",
       "22      46.106000   36.902281  18.301509  27.077727  21.157576  18.779333   \n",
       "23     137.303684   33.350484  21.202222  22.999423  22.479444  21.835000   \n",
       "24     323.973614   37.658875  22.090676  27.852000  19.764419  27.299783   \n",
       "25      -1.046556   32.969733  16.016250   0.000000  22.924474  20.855000   \n",
       "26      28.127465   19.090741  20.836667  13.633261  24.548333  11.348333   \n",
       "27      30.436711   37.560000  23.441463  21.030238  16.255652  10.964595   \n",
       "28      38.759195   43.158333  21.729500  16.403409  17.862727   8.445946   \n",
       "29      23.135843   36.739636  20.674754  21.575312  25.143571  11.702500   \n",
       "30      16.302800    0.000000  18.559412  30.181389  35.750000  16.080000   \n",
       "31      41.544091    0.000000  15.657640   0.000000  26.998611   0.000000   \n",
       "\n",
       "month         07         08         09         10         11          12  \n",
       "date                                                                      \n",
       "01     17.740909   0.000000   0.000000  29.723571  72.083333   40.814000  \n",
       "02     16.808286   0.000000   0.000000  28.300526  84.994687   47.117778  \n",
       "03     13.618421   0.000000   0.000000  35.232000  79.502778   72.895000  \n",
       "04     19.585517   1.010000  38.790000  30.160000  67.090000   43.312000  \n",
       "05      8.705172  19.300000   0.000000  26.835556  51.220000   48.043846  \n",
       "06      0.000000  10.470179  31.530000  38.827692  56.808947   70.170909  \n",
       "07     14.795000  18.195652   9.800000  38.977619  52.919231   67.509000  \n",
       "08      0.000000  36.463333   0.000000  31.468000  81.587500   63.482857  \n",
       "09      0.000000  12.440000  62.420000  33.785000  76.456471   55.288333  \n",
       "10      0.000000  17.456000  23.570000  35.883333  72.644000   51.684000  \n",
       "11      0.000000  21.896667   4.770000  18.504000  59.918095   64.065714  \n",
       "12      0.000000   0.000000   7.928000  53.325000  45.025789   70.512000  \n",
       "13     19.750000  15.235000  26.478750  18.780000  34.986667   56.720000  \n",
       "14     22.912297   4.547500  12.327500  18.124000  58.622727   59.749091  \n",
       "15      8.802424   0.000000  21.945000  27.332000  48.317500   99.614286  \n",
       "16     13.634386   9.546667  20.618333  23.014286  78.480769  104.325000  \n",
       "17     12.228281  15.307500  26.248000  28.071538  60.912857  104.652000  \n",
       "18     15.386145   5.915000  15.987500  31.147143  44.325714   73.240000  \n",
       "19     15.063333  16.780000  15.695000  35.624000  31.404000   58.292667  \n",
       "20     19.598889   0.000000  23.624000  53.217500  32.956429   34.899000  \n",
       "21     16.105604   0.000000  31.005000  71.138000  67.348000   38.078333  \n",
       "22     18.490000  10.060000  25.330000  55.868571  49.319000   24.930000  \n",
       "23     11.482000   4.460000  11.485000  60.618824  80.408333   35.470000  \n",
       "24     15.455217   9.206667  11.315000  65.259231  42.240000   76.009167  \n",
       "25     13.394933   0.000000  36.484167  11.783704   0.000000    0.000000  \n",
       "26     11.367213   0.000000  30.630000  67.688000  91.695000    0.000000  \n",
       "27     11.748136   0.000000  21.470000  55.508000  38.110000    0.000000  \n",
       "28     14.225600   0.000000  25.225200  43.797857  49.877778    0.000000  \n",
       "29     15.629730   0.000000  37.020769  52.092500  49.658182    0.000000  \n",
       "30     31.428966   0.000000  16.077143  69.024000  65.331111    0.000000  \n",
       "31     37.183333   0.000000   0.000000  65.535000   0.000000    0.000000  "
      ]
     },
     "execution_count": 34,
     "metadata": {},
     "output_type": "execute_result"
    }
   ],
   "source": [
    "pivot_pm_25 = pd.pivot_table(pm25_df, values='value', index='date', columns='month', fill_value=0 )\n",
    "pivot_pm_25"
   ]
  },
  {
   "cell_type": "markdown",
   "metadata": {},
   "source": [
    "### Month wise data "
   ]
  },
  {
   "cell_type": "code",
   "execution_count": 35,
   "metadata": {},
   "outputs": [],
   "source": [
    "pm25_df4month=pm25_df[[\"value\",\"month\",\"date\"]]"
   ]
  },
  {
   "cell_type": "code",
   "execution_count": 36,
   "metadata": {},
   "outputs": [],
   "source": [
    "#January\n",
    "dffor01=pm25_df4month[pm25_df4month[\"month\"]==\"01\"][[\"value\",\"date\"]]\n",
    "finaldf01=dffor01.groupby(\"date\")[[\"value\"]].mean()\n",
    "\n",
    "#Febrruary\n",
    "dffor02=pm25_df4month[pm25_df4month[\"month\"]==\"02\"][[\"value\",\"date\"]]\n",
    "finaldf02=dffor02.groupby(\"date\")[[\"value\"]].mean()\n",
    "\n",
    "#March\n",
    "dffor03=pm25_df4month[pm25_df4month[\"month\"]==\"03\"][[\"value\",\"date\"]]\n",
    "finaldf03=dffor03.groupby(\"date\")[[\"value\"]].mean()\n",
    "\n",
    "#April\n",
    "dffor04=pm25_df4month[pm25_df4month[\"month\"]==\"04\"][[\"value\",\"date\"]]\n",
    "finaldf04=dffor04.groupby(\"date\")[[\"value\"]].mean()\n",
    "\n",
    "#May\n",
    "dffor05=pm25_df4month[pm25_df4month[\"month\"]==\"05\"][[\"value\",\"date\"]]\n",
    "finaldf05=dffor05.groupby(\"date\")[[\"value\"]].mean()\n",
    "\n",
    "#June\n",
    "dffor06=pm25_df4month[pm25_df4month[\"month\"]==\"06\"][[\"value\",\"date\"]]\n",
    "finaldf06=dffor06.groupby(\"date\")[[\"value\"]].mean()\n",
    "\n",
    "#July\n",
    "dffor07=pm25_df4month[pm25_df4month[\"month\"]==\"07\"][[\"value\",\"date\"]]\n",
    "finaldf07=dffor07.groupby(\"date\")[[\"value\"]].mean()\n",
    "\n",
    "#August\n",
    "dffor08=pm25_df4month[pm25_df4month[\"month\"]==\"08\"][[\"value\",\"date\"]]\n",
    "finaldf08=dffor08.groupby(\"date\")[[\"value\"]].mean()\n",
    "\n",
    "#September\n",
    "dffor09=pm25_df4month[pm25_df4month[\"month\"]==\"09\"][[\"value\",\"date\"]]\n",
    "finaldf09=dffor09.groupby(\"date\")[[\"value\"]].mean()\n",
    "\n",
    "#octomber\n",
    "dffor10=pm25_df4month[pm25_df4month[\"month\"]==\"10\"][[\"value\",\"date\"]]\n",
    "finaldf10=dffor10.groupby(\"date\")[[\"value\"]].mean()\n",
    "\n",
    "#november\n",
    "dffor11=pm25_df4month[pm25_df4month[\"month\"]==\"11\"][[\"value\",\"date\"]]\n",
    "finaldf11=dffor11.groupby(\"date\")[[\"value\"]].mean()\n",
    "\n",
    "#December\n",
    "dffor12=pm25_df4month[pm25_df4month[\"month\"]==\"12\"][[\"value\",\"date\"]]\n",
    "finaldf12=dffor12.groupby(\"date\")[[\"value\"]].mean()\n"
   ]
  },
  {
   "cell_type": "markdown",
   "metadata": {},
   "source": [
    "### Mean values before removing outliers"
   ]
  },
  {
   "cell_type": "code",
   "execution_count": 37,
   "metadata": {},
   "outputs": [],
   "source": [
    "# pm25_df"
   ]
  },
  {
   "cell_type": "code",
   "execution_count": 38,
   "metadata": {},
   "outputs": [
    {
     "data": {
      "text/plain": [
       "month\n",
       "01    101.417090\n",
       "02     47.302598\n",
       "03     25.442877\n",
       "04     22.389369\n",
       "05     22.852285\n",
       "06     15.814049\n",
       "07     16.143669\n",
       "08     12.567308\n",
       "09     24.218671\n",
       "10     38.765106\n",
       "11     61.368170\n",
       "12     61.460870\n",
       "Name: value, dtype: float64"
      ]
     },
     "execution_count": 38,
     "metadata": {},
     "output_type": "execute_result"
    }
   ],
   "source": [
    "gp2=pm25_df.groupby(['month'])['value'].mean()\n",
    "gp2"
   ]
  },
  {
   "cell_type": "code",
   "execution_count": 39,
   "metadata": {},
   "outputs": [],
   "source": [
    "l1=list(np.round(gp2.values,2))"
   ]
  },
  {
   "cell_type": "code",
   "execution_count": 40,
   "metadata": {},
   "outputs": [
    {
     "data": {
      "image/png": "[encoded data removed]",
      "text/plain": [
       "<Figure size 576x432 with 1 Axes>"
      ]
     },
     "metadata": {
      "needs_background": "light"
     },
     "output_type": "display_data"
    }
   ],
   "source": [
    "plt.figure(figsize=(8, 6))\n",
    "g=sns.barplot('month', 'value', data=pm25_df,ci=None)\n",
    "for p in g.patches:\n",
    "    g.annotate(format(p.get_height(), '.1f'), \n",
    "                   (p.get_x() + p.get_width() / 2., p.get_height()), \n",
    "                   ha = 'center', va = 'center', \n",
    "                   xytext = (0, 9), \n",
    "                   textcoords = 'offset points')  \n",
    "plt.ylabel(\"PM 2.5 µg/m³\")\n",
    "plt.xlabel(\"Months\")\n",
    "plt.xticks([0,1,2,3,4,5,6,7,8,9,10,11,12],[\"Jan\",\"Feb\",\"Mar\",\"Apr\",\"May\",\"June\",\"July\",\"Aug\",\"Sept\",\"Oct\",\"Nov\",\"Dec\"])\n",
    "plt.show()"
   ]
  },
  {
   "cell_type": "markdown",
   "metadata": {},
   "source": [
    "### Outliers in data readings"
   ]
  },
  {
   "cell_type": "code",
   "execution_count": 41,
   "metadata": {},
   "outputs": [
    {
     "data": {
      "image/png": "[encoded data removed]",
      "text/plain": [
       "<Figure size 576x432 with 1 Axes>"
      ]
     },
     "metadata": {
      "needs_background": "light"
     },
     "output_type": "display_data"
    }
   ],
   "source": [
    "plt.figure(figsize=(8, 6))\n",
    "pm25_df4month2=pm25_df4month\n",
    "pm25_df4month2[\"month\"].astype(int)\n",
    "pm25_df4month2[\"value\"].astype(int)\n",
    "pm25_df4month2\n",
    "sns.boxplot(x=\"month\",y=\"value\", data=pm25_df4month2)\n",
    "plt.xticks([0,1,2,3,4,5,6,7,8,9,10,11,12],[\"Jan\",\"Feb\",\"Mar\",\"Apr\",\"May\",\"June\",\"July\",\"Aug\",\"Sept\",\"Oct\",\"Nov\",\"Dec\"])\n",
    "plt.ylabel(\"PM 2.5 µg/m³\")\n",
    "plt.show()"
   ]
  },
  {
   "cell_type": "markdown",
   "metadata": {},
   "source": [
    "### Removing outliers from data"
   ]
  },
  {
   "cell_type": "code",
   "execution_count": 42,
   "metadata": {},
   "outputs": [],
   "source": [
    "def remove_outlier(df_in, col_name):\n",
    "    q1 = df_in[col_name].quantile(0.25)\n",
    "    q3 = df_in[col_name].quantile(0.75)\n",
    "    iqr = q3-q1 #Interquartile range\n",
    "    fence_low  = q1-1.5*iqr\n",
    "    fence_high = q3+1.5*iqr\n",
    "    df_out = df_in.loc[(df_in[col_name] > fence_low) & (df_in[col_name] < fence_high)]\n",
    "    return df_out"
   ]
  },
  {
   "cell_type": "code",
   "execution_count": 43,
   "metadata": {},
   "outputs": [],
   "source": [
    "# values after removing outliers\n",
    "janvalues=list(remove_outlier(finaldf01,\"value\")[\"value\"])\n",
    "febvalues=list(remove_outlier(finaldf02,\"value\")[\"value\"])\n",
    "marvalues=list(remove_outlier(finaldf03,\"value\")[\"value\"])\n",
    "aprvalues=list(remove_outlier(finaldf04,\"value\")[\"value\"])\n",
    "mayvalues=list(remove_outlier(finaldf05,\"value\")[\"value\"])\n",
    "junevalues=list(remove_outlier(finaldf06,\"value\")[\"value\"])\n",
    "julyvalues=list(remove_outlier(finaldf07,\"value\")[\"value\"])\n",
    "augvalues=list(remove_outlier(finaldf08,\"value\")[\"value\"])\n",
    "septvalues=list(remove_outlier(finaldf09,\"value\")[\"value\"])\n",
    "octvalues=list(remove_outlier(finaldf10,\"value\")[\"value\"])\n",
    "novvalues=list(remove_outlier(finaldf11,\"value\")[\"value\"])\n",
    "decvalues=list(remove_outlier(finaldf12,\"value\")[\"value\"])"
   ]
  },
  {
   "cell_type": "markdown",
   "metadata": {},
   "source": [
    "### Means after removing outliers"
   ]
  },
  {
   "cell_type": "code",
   "execution_count": 44,
   "metadata": {},
   "outputs": [
    {
     "data": {
      "image/png": "[encoded data removed]",
      "text/plain": [
       "<Figure size 432x288 with 1 Axes>"
      ]
     },
     "metadata": {
      "needs_background": "light"
     },
     "output_type": "display_data"
    }
   ],
   "source": [
    "from matplotlib import cm\n",
    "means2=[np.mean(janvalues),np.mean(febvalues),np.mean(marvalues),np.mean(aprvalues),np.mean(mayvalues),\n",
    "       np.mean(junevalues),np.mean(julyvalues),np.mean(augvalues),np.mean(septvalues),np.mean(octvalues),np.mean(novvalues)\n",
    "       ,np.mean(decvalues)]\n",
    "colors=[\"coral\",\"red\",\"lightsalmon\",\"peru\",\"salmon\",\"lightcoral\",\"indianred\",\"tomato\",\"brown\",\"firebrick\",\"saddlebrown\",\"darkred\"]\n",
    "months2=[\"Jan\",\"Feb\",\"mar\",\"April\",\"May\",\"june\",\"july\",\"Aug\",\"sept\",\"Oct\",\"nov\",\"dec\"]\n",
    "\n",
    "plt.bar(months2,means2,color=colors)\n",
    "\n",
    "for x, y in zip(months2, means2):\n",
    "    plt.text(x,y+1, str(round(y,1)),ha=\"center\")\n",
    "plt.xlabel(\"Months\")\n",
    "plt.ylabel(\"Pm 2.5 level\")\n",
    "plt.show()"
   ]
  },
  {
   "cell_type": "markdown",
   "metadata": {},
   "source": [
    "## Hypothesis 1"
   ]
  },
  {
   "cell_type": "markdown",
   "metadata": {},
   "source": [
    "Null Hypothesis -- there is no difference in pollution level due to lockdown in the city <br>\n",
    "Alternate Hypothesis -- there is a significant decrease in pollution level after lockdown in the city <br>\n",
    "considering left tailed test as we are just interested in determining whether there is decrease or not at a 0.05 % confidence level"
   ]
  },
  {
   "cell_type": "code",
   "execution_count": 45,
   "metadata": {},
   "outputs": [
    {
     "name": "stdout",
     "output_type": "stream",
     "text": [
      "n1 = 70 n2 = 83\n",
      "Mu1 =  32.07224896248275 mu2 =  19.422683922687497\n",
      "var1 =  118.59001070567068 var2 =  31.262330069773654\n"
     ]
    }
   ],
   "source": [
    "jan_feb_mar=janvalues+febvalues+marvalues\n",
    "mu1=np.mean(jan_feb_mar)\n",
    "var1=np.var(jan_feb_mar)\n",
    "n1=len(jan_feb_mar)\n",
    "\n",
    "apr_may_june=aprvalues+mayvalues+junevalues\n",
    "mu2=np.mean(apr_may_june)\n",
    "var2=np.var(apr_may_june)\n",
    "n2=len(apr_may_june)\n",
    "\n",
    "print(\"n1 =\",n1,\"n2 =\",n2)\n",
    "print(\"Mu1 = \",mu1,\"mu2 = \",mu2)\n",
    "print(\"var1 = \",var1,\"var2 = \",var2)"
   ]
  },
  {
   "cell_type": "markdown",
   "metadata": {},
   "source": [
    "#### z statistic value for Hypothesis testing of Jan-Feb-Mar and April-May-June"
   ]
  },
  {
   "cell_type": "code",
   "execution_count": 46,
   "metadata": {},
   "outputs": [
    {
     "data": {
      "text/plain": [
       "-8.790362135614936"
      ]
     },
     "execution_count": 46,
     "metadata": {},
     "output_type": "execute_result"
    }
   ],
   "source": [
    "z=(mu2-mu1)/np.sqrt((var1/n1)+(var2/n2))\n",
    "z"
   ]
  },
  {
   "cell_type": "code",
   "execution_count": 47,
   "metadata": {},
   "outputs": [
    {
     "data": {
      "text/plain": [
       "-1.6448536269514729"
      ]
     },
     "execution_count": 47,
     "metadata": {},
     "output_type": "execute_result"
    }
   ],
   "source": [
    "#critical value at alpha = 0.05\n",
    "sp.norm.ppf(0.05)"
   ]
  },
  {
   "cell_type": "markdown",
   "metadata": {},
   "source": [
    "#### Here Z statistic calculated (-8.79) is < -1.164 so we can reject the null hypothesis that there is no change in pollution and accept the alternate hypothesis that there is significant level of decrease in the pollution"
   ]
  },
  {
   "cell_type": "markdown",
   "metadata": {},
   "source": [
    "#### Conclusion - we are 95 % confident that there is decrease in pollution level after lockdown started in the month of march"
   ]
  },
  {
   "cell_type": "markdown",
   "metadata": {},
   "source": [
    "###  Hypothesis 2"
   ]
  },
  {
   "cell_type": "markdown",
   "metadata": {},
   "source": [
    "Null Hypothesis -- there is no difference in pollution level in the city due to lift of lockdown and relaxation in guidelines of covid <br>\n",
    "Alternate Hypothesis -- there is a significant increase in pollution level after lift of lockdown (unlockdown phase 4) in the month of September in the city <br>\n",
    "considering right tailed test as we are just interested in deterining wether there is increase or not at a 0.05 % confidence level "
   ]
  },
  {
   "cell_type": "code",
   "execution_count": 48,
   "metadata": {},
   "outputs": [
    {
     "name": "stdout",
     "output_type": "stream",
     "text": [
      "n1 =  16\n",
      "n2 =  24\n",
      "mu1  11.98917692158385\n",
      "mu2  21.889765086996338\n",
      "var1  87.63811701090395\n",
      "var2  34.62232190035462\n"
     ]
    }
   ],
   "source": [
    "mu1=np.mean(augvalues)\n",
    "mu2=np.mean(septvalues)\n",
    "var1=np.var(septvalues)\n",
    "var2=np.var(augvalues)\n",
    "n1=len(augvalues)\n",
    "n2=len(septvalues)\n",
    "print(\"n1 = \", len(augvalues))\n",
    "print(\"n2 = \", len(septvalues))\n",
    "print(\"mu1 \",mu1)\n",
    "print(\"mu2 \",mu2)\n",
    "print(\"var1 \",var1 )\n",
    "print(\"var2 \",var2 )"
   ]
  },
  {
   "cell_type": "code",
   "execution_count": 49,
   "metadata": {},
   "outputs": [
    {
     "data": {
      "text/plain": [
       "3.763644591910508"
      ]
     },
     "execution_count": 49,
     "metadata": {},
     "output_type": "execute_result"
    }
   ],
   "source": [
    "t=(mu2-mu1)/np.sqrt((var1/n1)+(var2/n2))\n",
    "t"
   ]
  },
  {
   "cell_type": "markdown",
   "metadata": {},
   "source": [
    "As n1 and n2 is less than 30 we will use Effective dof for T test <br>\n",
    "Effective Degree of freedom is given by"
   ]
  },
  {
   "cell_type": "code",
   "execution_count": 50,
   "metadata": {},
   "outputs": [
    {
     "data": {
      "text/plain": [
       "22.905477723678136"
      ]
     },
     "execution_count": 50,
     "metadata": {},
     "output_type": "execute_result"
    }
   ],
   "source": [
    "numerator = ( ( (var1) / n1 ) + ( (var2) / n2 ) )**2\n",
    "denominator = ( ( (var1/n1)**2 )/(n1-1)  ) + ( ( (var2/n2)**2 )/(n2-1)  )\n",
    "Edof = numerator/denominator\n",
    "Edof\n",
    "# now T(0.95,23)"
   ]
  },
  {
   "cell_type": "code",
   "execution_count": 51,
   "metadata": {},
   "outputs": [
    {
     "data": {
      "text/plain": [
       "1.7138715277470473"
      ]
     },
     "execution_count": 51,
     "metadata": {},
     "output_type": "execute_result"
    }
   ],
   "source": [
    "t=sp.t.ppf(0.95,23)\n",
    "t"
   ]
  },
  {
   "cell_type": "markdown",
   "metadata": {},
   "source": [
    "#### Here T statistic calculated ( 3.76 ) > T critical (1.713 ) so we can reject the null hypothesis that there is no significant increase in pollution level and accept alternate hypothesis that there is significant increse in pollution level after unlockdown phase 4"
   ]
  },
  {
   "cell_type": "markdown",
   "metadata": {},
   "source": [
    "#### Conclusion - we are 95% confident that pollution level in the city increased after unlockdown phase  4 , which started in month of september "
   ]
  },
  {
   "cell_type": "markdown",
   "metadata": {},
   "source": [
    "### Dividing March month data into 4 weeks"
   ]
  },
  {
   "cell_type": "code",
   "execution_count": 52,
   "metadata": {},
   "outputs": [
    {
     "data": {
      "text/html": [
       "<div>\n",
       "<style scoped>\n",
       "    .dataframe tbody tr th:only-of-type {\n",
       "        vertical-align: middle;\n",
       "    }\n",
       "\n",
       "    .dataframe tbody tr th {\n",
       "        vertical-align: top;\n",
       "    }\n",
       "\n",
       "    .dataframe thead th {\n",
       "        text-align: right;\n",
       "    }\n",
       "</style>\n",
       "<table border=\"1\" class=\"dataframe\">\n",
       "  <thead>\n",
       "    <tr style=\"text-align: right;\">\n",
       "      <th></th>\n",
       "      <th>value</th>\n",
       "      <th>date</th>\n",
       "    </tr>\n",
       "  </thead>\n",
       "  <tbody>\n",
       "    <tr>\n",
       "      <th>6307</th>\n",
       "      <td>23.89</td>\n",
       "      <td>31</td>\n",
       "    </tr>\n",
       "    <tr>\n",
       "      <th>6308</th>\n",
       "      <td>23.24</td>\n",
       "      <td>31</td>\n",
       "    </tr>\n",
       "    <tr>\n",
       "      <th>6309</th>\n",
       "      <td>23.24</td>\n",
       "      <td>31</td>\n",
       "    </tr>\n",
       "    <tr>\n",
       "      <th>6310</th>\n",
       "      <td>23.24</td>\n",
       "      <td>31</td>\n",
       "    </tr>\n",
       "    <tr>\n",
       "      <th>6311</th>\n",
       "      <td>24.10</td>\n",
       "      <td>31</td>\n",
       "    </tr>\n",
       "    <tr>\n",
       "      <th>...</th>\n",
       "      <td>...</td>\n",
       "      <td>...</td>\n",
       "    </tr>\n",
       "    <tr>\n",
       "      <th>8026</th>\n",
       "      <td>62.64</td>\n",
       "      <td>01</td>\n",
       "    </tr>\n",
       "    <tr>\n",
       "      <th>8027</th>\n",
       "      <td>64.18</td>\n",
       "      <td>01</td>\n",
       "    </tr>\n",
       "    <tr>\n",
       "      <th>8028</th>\n",
       "      <td>64.18</td>\n",
       "      <td>01</td>\n",
       "    </tr>\n",
       "    <tr>\n",
       "      <th>8029</th>\n",
       "      <td>64.18</td>\n",
       "      <td>01</td>\n",
       "    </tr>\n",
       "    <tr>\n",
       "      <th>8030</th>\n",
       "      <td>59.52</td>\n",
       "      <td>01</td>\n",
       "    </tr>\n",
       "  </tbody>\n",
       "</table>\n",
       "<p>1724 rows × 2 columns</p>\n",
       "</div>"
      ],
      "text/plain": [
       "      value date\n",
       "6307  23.89   31\n",
       "6308  23.24   31\n",
       "6309  23.24   31\n",
       "6310  23.24   31\n",
       "6311  24.10   31\n",
       "...     ...  ...\n",
       "8026  62.64   01\n",
       "8027  64.18   01\n",
       "8028  64.18   01\n",
       "8029  64.18   01\n",
       "8030  59.52   01\n",
       "\n",
       "[1724 rows x 2 columns]"
      ]
     },
     "execution_count": 52,
     "metadata": {},
     "output_type": "execute_result"
    }
   ],
   "source": [
    "march_df = pm25_df[pm25_df['month'] == '03'][['value','date']]\n",
    "march_df"
   ]
  },
  {
   "cell_type": "markdown",
   "metadata": {},
   "source": [
    "### Segregating data into 4 weeks of march"
   ]
  },
  {
   "cell_type": "code",
   "execution_count": 53,
   "metadata": {},
   "outputs": [
    {
     "data": {
      "text/plain": [
       "7531    33.24\n",
       "7532    34.08\n",
       "7533    34.08\n",
       "7534    35.69\n",
       "7535    35.92\n",
       "        ...  \n",
       "8026    62.64\n",
       "8027    64.18\n",
       "8028    64.18\n",
       "8029    64.18\n",
       "8030    59.52\n",
       "Name: value, Length: 500, dtype: float64"
      ]
     },
     "execution_count": 53,
     "metadata": {},
     "output_type": "execute_result"
    }
   ],
   "source": [
    "march_first_week = march_df[(march_df['date'] >= '01') & (march_df['date'] <= '07')]['value']\n",
    "march_second_week = march_df[(march_df['date'] >= '08') & (march_df['date'] <= '14')]['value']\n",
    "march_third_week = march_df[(march_df['date'] >= '15') & (march_df['date'] <= '21')]['value']\n",
    "march_fourth_week = march_df[march_df['date'] >= '22']['value']\n",
    "march_first_week"
   ]
  },
  {
   "cell_type": "code",
   "execution_count": 58,
   "metadata": {},
   "outputs": [
    {
     "data": {
      "image/png": "[encoded data removed]",
      "text/plain": [
       "<Figure size 504x360 with 1 Axes>"
      ]
     },
     "metadata": {
      "needs_background": "light"
     },
     "output_type": "display_data"
    }
   ],
   "source": [
    "fig, ax = plt.subplots(1, 1, figsize=(7,5))\n",
    "plt.boxplot([march_first_week, march_second_week, march_third_week, march_fourth_week])\n",
    "plt.ylabel(\"pm 2.5 value in µg/m³\")\n",
    "plt.xlabel(\"Four weeks of march.\")\n",
    "plt.xticks([1,2,3,4], ['Week 1', 'Week 2', 'Week 3', 'Week 4'])\n",
    "plt.title(\"March month pm 2.5 level distributed among 4 weeks\")\n",
    "plt.show()"
   ]
  },
  {
   "cell_type": "code",
   "execution_count": 59,
   "metadata": {},
   "outputs": [
    {
     "name": "stdout",
     "output_type": "stream",
     "text": [
      "1724\n"
     ]
    }
   ],
   "source": [
    "total_number_of_observations = len(march_first_week) + len(march_second_week) + len(march_third_week) +\\\n",
    "len(march_fourth_week)\n",
    "print(total_number_of_observations)"
   ]
  },
  {
   "cell_type": "markdown",
   "metadata": {},
   "source": [
    "### Remove Outliers from 4 march weeks data"
   ]
  },
  {
   "cell_type": "code",
   "execution_count": 60,
   "metadata": {},
   "outputs": [],
   "source": [
    "weeks = [march_first_week, march_second_week, march_third_week, march_fourth_week]\n",
    "outliers_removed_data = []\n",
    "def removeOutliers(weeks):\n",
    "    data = []\n",
    "    for week in weeks:\n",
    "        new_data = []\n",
    "        Q1 = np.quantile(week, 0.25)\n",
    "        Q3 = np.quantile(week, 0.75)\n",
    "        IQR = Q3 - Q1\n",
    "        UL = Q3 + 1.5*IQR\n",
    "        LL = Q1 - 1.5*IQR\n",
    "        if LL < 0:\n",
    "            LL = 0\n",
    "        else:\n",
    "            LL = LL\n",
    "        \n",
    "        new_data = week[(week > LL) & (week < UL)]\n",
    "        sortedData = new_data.values\n",
    "        \n",
    "        data.append(sorted(sortedData))\n",
    "        \n",
    "    return data\n",
    "        \n",
    "    \n",
    "\n",
    "outliers_removed_data = removeOutliers(weeks)"
   ]
  },
  {
   "cell_type": "markdown",
   "metadata": {},
   "source": [
    "### Box plot after removing outliers"
   ]
  },
  {
   "cell_type": "code",
   "execution_count": 61,
   "metadata": {},
   "outputs": [
    {
     "data": {
      "image/png": "[encoded data removed]",
      "text/plain": [
       "<Figure size 504x360 with 1 Axes>"
      ]
     },
     "metadata": {
      "needs_background": "light"
     },
     "output_type": "display_data"
    }
   ],
   "source": [
    "fig, ax = plt.subplots(1, 1, figsize=(7,5))\n",
    "plt.boxplot([outliers_removed_data[0], outliers_removed_data[1], outliers_removed_data[2], outliers_removed_data[3]],\n",
    "           showmeans=True, meanline=True)\n",
    "plt.xlabel(\"4 Weeks of march\")\n",
    "plt.ylabel(\"pm 2.5 value in µg/m³\")\n",
    "plt.title(\"March month pm 2.5 level distributed among 4 weeks\")\n",
    "plt.xticks([1,2,3,4], ['Week 1', 'Week 2', 'Week 3', 'Week 4'])\n",
    "plt.show()"
   ]
  },
  {
   "cell_type": "markdown",
   "metadata": {},
   "source": [
    "### To take middle 100 values from each group"
   ]
  },
  {
   "cell_type": "code",
   "execution_count": 62,
   "metadata": {},
   "outputs": [],
   "source": [
    "def takeMiddle100Values(data):\n",
    "    new_points = []\n",
    "    length = len(data)\n",
    "    start = length//2 - 50\n",
    "    end = length//2 + 50\n",
    "    \n",
    "    for index in range(start, end):\n",
    "        new_points.append(data[index])\n",
    "        \n",
    "        \n",
    "    return new_points    "
   ]
  },
  {
   "cell_type": "code",
   "execution_count": 63,
   "metadata": {},
   "outputs": [],
   "source": [
    "middle_values = []\n",
    "for week_data in outliers_removed_data:\n",
    "    middle_values.append(takeMiddle100Values(week_data))"
   ]
  },
  {
   "cell_type": "code",
   "execution_count": 64,
   "metadata": {},
   "outputs": [
    {
     "data": {
      "image/png": "[encoded data removed]",
      "text/plain": [
       "<Figure size 504x360 with 1 Axes>"
      ]
     },
     "metadata": {
      "needs_background": "light"
     },
     "output_type": "display_data"
    }
   ],
   "source": [
    "fig, ax = plt.subplots(1, 1, figsize=(7,5))\n",
    "plt.boxplot([middle_values[0], middle_values[1], middle_values[2], middle_values[3]],showmeans=True, meanline=True)\n",
    "plt.xlabel(\"Weeks of March month.\")\n",
    "plt.ylabel(\"pm 2.5 level µg/m³\")\n",
    "plt.title(\"March month pm 2.5 level measurement week wise.\")\n",
    "plt.xticks([1,2,3,4],['Week 1', 'Week 2', 'Week 3', 'Week 4'])\n",
    "plt.show()"
   ]
  },
  {
   "cell_type": "code",
   "execution_count": 65,
   "metadata": {},
   "outputs": [],
   "source": [
    "march_outliers_removed_df = pd.DataFrame()\n",
    "march_outliers_removed_df['march_first_week'] = middle_values[0]\n",
    "march_outliers_removed_df['march_second_week'] = middle_values[1]\n",
    "march_outliers_removed_df['march_third_week'] = middle_values[2]\n",
    "march_outliers_removed_df['march_fourth_week'] = middle_values[3]"
   ]
  },
  {
   "cell_type": "code",
   "execution_count": 67,
   "metadata": {},
   "outputs": [],
   "source": [
    "total_observations = march_outliers_removed_df.shape[0] * march_outliers_removed_df.shape[1]"
   ]
  },
  {
   "cell_type": "markdown",
   "metadata": {},
   "source": [
    "### Anova test on the 4 weeks of March to check whether pollution level for all 4 weeks is same or not"
   ]
  },
  {
   "cell_type": "markdown",
   "metadata": {},
   "source": [
    "#### H0: Means of all four weaks are same \n",
    "#### H1: Atleast one mean is different"
   ]
  },
  {
   "cell_type": "code",
   "execution_count": 154,
   "metadata": {},
   "outputs": [
    {
     "name": "stdout",
     "output_type": "stream",
     "text": [
      "F statistic is 322.541019473694 and p-value is 6.334740500831575e-106\n"
     ]
    }
   ],
   "source": [
    "f_statistic, pvalue = sp.f_oneway(march_outliers_removed_df['march_first_week'], \n",
    "                                  march_outliers_removed_df['march_second_week'],\n",
    "                                  march_outliers_removed_df['march_third_week'], \n",
    "                                  march_outliers_removed_df['march_fourth_week'])\n",
    "print(f\"F statistic is {f_statistic} and p-value is {pvalue}\")"
   ]
  },
  {
   "cell_type": "code",
   "execution_count": 155,
   "metadata": {},
   "outputs": [
    {
     "name": "stdout",
     "output_type": "stream",
     "text": [
      "2.6274407695704896\n"
     ]
    }
   ],
   "source": [
    "f_critical = sp.f.ppf(0.95, (4-1), (total_observations - 4))\n",
    "print(f_critical)"
   ]
  },
  {
   "cell_type": "markdown",
   "metadata": {},
   "source": [
    "#### As f_critical < f_observed we reject H0"
   ]
  },
  {
   "cell_type": "markdown",
   "metadata": {},
   "source": [
    "#### As we accept H1, we need to perform Tuckey's test to know which all means are different"
   ]
  },
  {
   "cell_type": "markdown",
   "metadata": {},
   "source": [
    "### Tuckey's Test to find which all weeks are different"
   ]
  },
  {
   "cell_type": "code",
   "execution_count": 156,
   "metadata": {},
   "outputs": [
    {
     "data": {
      "text/html": [
       "<div>\n",
       "<style scoped>\n",
       "    .dataframe tbody tr th:only-of-type {\n",
       "        vertical-align: middle;\n",
       "    }\n",
       "\n",
       "    .dataframe tbody tr th {\n",
       "        vertical-align: top;\n",
       "    }\n",
       "\n",
       "    .dataframe thead th {\n",
       "        text-align: right;\n",
       "    }\n",
       "</style>\n",
       "<table border=\"1\" class=\"dataframe\">\n",
       "  <thead>\n",
       "    <tr style=\"text-align: right;\">\n",
       "      <th></th>\n",
       "      <th>level_0</th>\n",
       "      <th>level_1</th>\n",
       "      <th>0</th>\n",
       "    </tr>\n",
       "  </thead>\n",
       "  <tbody>\n",
       "    <tr>\n",
       "      <th>0</th>\n",
       "      <td>0</td>\n",
       "      <td>march_first_week</td>\n",
       "      <td>28.19</td>\n",
       "    </tr>\n",
       "    <tr>\n",
       "      <th>1</th>\n",
       "      <td>0</td>\n",
       "      <td>march_second_week</td>\n",
       "      <td>17.16</td>\n",
       "    </tr>\n",
       "    <tr>\n",
       "      <th>2</th>\n",
       "      <td>0</td>\n",
       "      <td>march_third_week</td>\n",
       "      <td>21.85</td>\n",
       "    </tr>\n",
       "    <tr>\n",
       "      <th>3</th>\n",
       "      <td>0</td>\n",
       "      <td>march_fourth_week</td>\n",
       "      <td>19.05</td>\n",
       "    </tr>\n",
       "    <tr>\n",
       "      <th>4</th>\n",
       "      <td>1</td>\n",
       "      <td>march_first_week</td>\n",
       "      <td>28.21</td>\n",
       "    </tr>\n",
       "  </tbody>\n",
       "</table>\n",
       "</div>"
      ],
      "text/plain": [
       "   level_0            level_1      0\n",
       "0        0   march_first_week  28.19\n",
       "1        0  march_second_week  17.16\n",
       "2        0   march_third_week  21.85\n",
       "3        0  march_fourth_week  19.05\n",
       "4        1   march_first_week  28.21"
      ]
     },
     "execution_count": 156,
     "metadata": {},
     "output_type": "execute_result"
    }
   ],
   "source": [
    "stacked_df = march_outliers_removed_df.stack().reset_index()\n",
    "stacked_df.head()"
   ]
  },
  {
   "cell_type": "code",
   "execution_count": 157,
   "metadata": {},
   "outputs": [
    {
     "data": {
      "text/html": [
       "<div>\n",
       "<style scoped>\n",
       "    .dataframe tbody tr th:only-of-type {\n",
       "        vertical-align: middle;\n",
       "    }\n",
       "\n",
       "    .dataframe tbody tr th {\n",
       "        vertical-align: top;\n",
       "    }\n",
       "\n",
       "    .dataframe thead th {\n",
       "        text-align: right;\n",
       "    }\n",
       "</style>\n",
       "<table border=\"1\" class=\"dataframe\">\n",
       "  <thead>\n",
       "    <tr style=\"text-align: right;\">\n",
       "      <th></th>\n",
       "      <th>id</th>\n",
       "      <th>week</th>\n",
       "      <th>pm25</th>\n",
       "    </tr>\n",
       "  </thead>\n",
       "  <tbody>\n",
       "    <tr>\n",
       "      <th>0</th>\n",
       "      <td>0</td>\n",
       "      <td>march_first_week</td>\n",
       "      <td>28.19</td>\n",
       "    </tr>\n",
       "    <tr>\n",
       "      <th>1</th>\n",
       "      <td>0</td>\n",
       "      <td>march_second_week</td>\n",
       "      <td>17.16</td>\n",
       "    </tr>\n",
       "    <tr>\n",
       "      <th>2</th>\n",
       "      <td>0</td>\n",
       "      <td>march_third_week</td>\n",
       "      <td>21.85</td>\n",
       "    </tr>\n",
       "    <tr>\n",
       "      <th>3</th>\n",
       "      <td>0</td>\n",
       "      <td>march_fourth_week</td>\n",
       "      <td>19.05</td>\n",
       "    </tr>\n",
       "    <tr>\n",
       "      <th>4</th>\n",
       "      <td>1</td>\n",
       "      <td>march_first_week</td>\n",
       "      <td>28.21</td>\n",
       "    </tr>\n",
       "  </tbody>\n",
       "</table>\n",
       "</div>"
      ],
      "text/plain": [
       "   id               week   pm25\n",
       "0   0   march_first_week  28.19\n",
       "1   0  march_second_week  17.16\n",
       "2   0   march_third_week  21.85\n",
       "3   0  march_fourth_week  19.05\n",
       "4   1   march_first_week  28.21"
      ]
     },
     "execution_count": 157,
     "metadata": {},
     "output_type": "execute_result"
    }
   ],
   "source": [
    "stacked_data = stacked_df.rename(columns={'level_0': 'id','level_1': 'week',0:'pm25'})\n",
    "stacked_data.head()"
   ]
  },
  {
   "cell_type": "code",
   "execution_count": 158,
   "metadata": {},
   "outputs": [],
   "source": [
    "MultiComp = MultiComparison(stacked_data['pm25'], stacked_data['week'])"
   ]
  },
  {
   "cell_type": "code",
   "execution_count": 159,
   "metadata": {},
   "outputs": [
    {
     "data": {
      "text/html": [
       "<table class=\"simpletable\">\n",
       "<caption>Multiple Comparison of Means - Tukey HSD, FWER=0.05</caption>\n",
       "<tr>\n",
       "       <th>group1</th>            <th>group2</th>       <th>meandiff</th>  <th>p-adj</th>  <th>lower</th>   <th>upper</th>  <th>reject</th>\n",
       "</tr>\n",
       "<tr>\n",
       "  <td>march_first_week</td>  <td>march_fourth_week</td>  <td>-8.8518</td>  <td>0.001</td> <td>-9.656</td>  <td>-8.0476</td>  <td>True</td> \n",
       "</tr>\n",
       "<tr>\n",
       "  <td>march_first_week</td>  <td>march_second_week</td>  <td>-7.8241</td>  <td>0.001</td> <td>-8.6283</td> <td>-7.0199</td>  <td>True</td> \n",
       "</tr>\n",
       "<tr>\n",
       "  <td>march_first_week</td>  <td>march_third_week</td>   <td>-5.9684</td>  <td>0.001</td> <td>-6.7726</td> <td>-5.1642</td>  <td>True</td> \n",
       "</tr>\n",
       "<tr>\n",
       "  <td>march_fourth_week</td> <td>march_second_week</td>  <td>1.0277</td>  <td>0.0058</td> <td>0.2235</td>  <td>1.8319</td>   <td>True</td> \n",
       "</tr>\n",
       "<tr>\n",
       "  <td>march_fourth_week</td> <td>march_third_week</td>   <td>2.8834</td>   <td>0.001</td> <td>2.0792</td>  <td>3.6876</td>   <td>True</td> \n",
       "</tr>\n",
       "<tr>\n",
       "  <td>march_second_week</td> <td>march_third_week</td>   <td>1.8557</td>   <td>0.001</td> <td>1.0515</td>  <td>2.6599</td>   <td>True</td> \n",
       "</tr>\n",
       "</table>"
      ],
      "text/plain": [
       "<class 'statsmodels.iolib.table.SimpleTable'>"
      ]
     },
     "execution_count": 159,
     "metadata": {},
     "output_type": "execute_result"
    }
   ],
   "source": [
    "MultiComp.tukeyhsd().summary()"
   ]
  },
  {
   "cell_type": "code",
   "execution_count": 160,
   "metadata": {},
   "outputs": [
    {
     "name": "stdout",
     "output_type": "stream",
     "text": [
      "           Multiple Comparison of Means - Tukey HSD, FWER=0.05            \n",
      "==========================================================================\n",
      "      group1            group2      meandiff p-adj   lower   upper  reject\n",
      "--------------------------------------------------------------------------\n",
      " march_first_week march_fourth_week  -8.8518  0.001  -9.656 -8.0476   True\n",
      " march_first_week march_second_week  -7.8241  0.001 -8.6283 -7.0199   True\n",
      " march_first_week  march_third_week  -5.9684  0.001 -6.7726 -5.1642   True\n",
      "march_fourth_week march_second_week   1.0277 0.0058  0.2235  1.8319   True\n",
      "march_fourth_week  march_third_week   2.8834  0.001  2.0792  3.6876   True\n",
      "march_second_week  march_third_week   1.8557  0.001  1.0515  2.6599   True\n",
      "--------------------------------------------------------------------------\n"
     ]
    }
   ],
   "source": [
    "print(pairwise_tukeyhsd(stacked_data['pm25'], stacked_data['week'], alpha=0.05))"
   ]
  },
  {
   "cell_type": "markdown",
   "metadata": {},
   "source": [
    "#### Conslusion -- we are 95% confident  that  pollution levels for all 4 week are different from each other."
   ]
  },
  {
   "cell_type": "markdown",
   "metadata": {},
   "source": [
    "### Is their difference in Day(6 AM to 6 PM) and night pm2.5 (6 PM to 6 AM) for month of november ?"
   ]
  },
  {
   "cell_type": "code",
   "execution_count": 69,
   "metadata": {},
   "outputs": [
    {
     "name": "stdout",
     "output_type": "stream",
     "text": [
      "      value   time\n",
      "184  100.27  23:15\n",
      "185   78.12  21:15\n",
      "186   75.27  20:45\n",
      "187   41.76  13:45\n",
      "188   53.39  12:45\n",
      "..      ...    ...\n",
      "567   61.19  14:15\n",
      "568   61.19  13:45\n",
      "569   65.17  12:30\n",
      "570   68.31  11:45\n",
      "571    0.00  11:15\n",
      "\n",
      "[388 rows x 2 columns]\n"
     ]
    }
   ],
   "source": [
    "nov_df = pm25_df[pm25_df['month'] == '11'][['value', 'time']]\n",
    "print(nov_df)"
   ]
  },
  {
   "cell_type": "code",
   "execution_count": 70,
   "metadata": {},
   "outputs": [],
   "source": [
    "nov_df['hours'] = list(map(lambda x:int(x[0:2]), nov_df['time']))"
   ]
  },
  {
   "cell_type": "code",
   "execution_count": 71,
   "metadata": {},
   "outputs": [
    {
     "data": {
      "text/html": [
       "<div>\n",
       "<style scoped>\n",
       "    .dataframe tbody tr th:only-of-type {\n",
       "        vertical-align: middle;\n",
       "    }\n",
       "\n",
       "    .dataframe tbody tr th {\n",
       "        vertical-align: top;\n",
       "    }\n",
       "\n",
       "    .dataframe thead th {\n",
       "        text-align: right;\n",
       "    }\n",
       "</style>\n",
       "<table border=\"1\" class=\"dataframe\">\n",
       "  <thead>\n",
       "    <tr style=\"text-align: right;\">\n",
       "      <th></th>\n",
       "      <th>value</th>\n",
       "      <th>hours</th>\n",
       "    </tr>\n",
       "  </thead>\n",
       "  <tbody>\n",
       "    <tr>\n",
       "      <th>184</th>\n",
       "      <td>100.27</td>\n",
       "      <td>23</td>\n",
       "    </tr>\n",
       "    <tr>\n",
       "      <th>185</th>\n",
       "      <td>78.12</td>\n",
       "      <td>21</td>\n",
       "    </tr>\n",
       "    <tr>\n",
       "      <th>186</th>\n",
       "      <td>75.27</td>\n",
       "      <td>20</td>\n",
       "    </tr>\n",
       "    <tr>\n",
       "      <th>187</th>\n",
       "      <td>41.76</td>\n",
       "      <td>13</td>\n",
       "    </tr>\n",
       "    <tr>\n",
       "      <th>188</th>\n",
       "      <td>53.39</td>\n",
       "      <td>12</td>\n",
       "    </tr>\n",
       "    <tr>\n",
       "      <th>...</th>\n",
       "      <td>...</td>\n",
       "      <td>...</td>\n",
       "    </tr>\n",
       "    <tr>\n",
       "      <th>567</th>\n",
       "      <td>61.19</td>\n",
       "      <td>14</td>\n",
       "    </tr>\n",
       "    <tr>\n",
       "      <th>568</th>\n",
       "      <td>61.19</td>\n",
       "      <td>13</td>\n",
       "    </tr>\n",
       "    <tr>\n",
       "      <th>569</th>\n",
       "      <td>65.17</td>\n",
       "      <td>12</td>\n",
       "    </tr>\n",
       "    <tr>\n",
       "      <th>570</th>\n",
       "      <td>68.31</td>\n",
       "      <td>11</td>\n",
       "    </tr>\n",
       "    <tr>\n",
       "      <th>571</th>\n",
       "      <td>0.00</td>\n",
       "      <td>11</td>\n",
       "    </tr>\n",
       "  </tbody>\n",
       "</table>\n",
       "<p>388 rows × 2 columns</p>\n",
       "</div>"
      ],
      "text/plain": [
       "      value  hours\n",
       "184  100.27     23\n",
       "185   78.12     21\n",
       "186   75.27     20\n",
       "187   41.76     13\n",
       "188   53.39     12\n",
       "..      ...    ...\n",
       "567   61.19     14\n",
       "568   61.19     13\n",
       "569   65.17     12\n",
       "570   68.31     11\n",
       "571    0.00     11\n",
       "\n",
       "[388 rows x 2 columns]"
      ]
     },
     "execution_count": 71,
     "metadata": {},
     "output_type": "execute_result"
    }
   ],
   "source": [
    "nov_df.drop(columns = ['time'], inplace=True, axis = 1)\n",
    "nov_df"
   ]
  },
  {
   "cell_type": "code",
   "execution_count": 72,
   "metadata": {},
   "outputs": [
    {
     "data": {
      "text/plain": [
       "array([23, 21, 20, 13, 12,  5,  3,  2, 19, 18, 15, 14,  7,  6,  4,  1, 22,\n",
       "        8, 10, 16,  9, 17, 11,  0], dtype=int64)"
      ]
     },
     "execution_count": 72,
     "metadata": {},
     "output_type": "execute_result"
    }
   ],
   "source": [
    "nov_df['hours'].unique()"
   ]
  },
  {
   "cell_type": "code",
   "execution_count": 73,
   "metadata": {},
   "outputs": [],
   "source": [
    "day = nov_df[(nov_df['hours'] >= 6) & (nov_df['hours'] <= 18)]['value']\n",
    "night = nov_df[(nov_df['hours'] > 18) | (nov_df['hours'] < 6)]['value']"
   ]
  },
  {
   "cell_type": "code",
   "execution_count": 74,
   "metadata": {},
   "outputs": [
    {
     "data": {
      "image/png": "[encoded data removed]",
      "text/plain": [
       "<Figure size 504x360 with 1 Axes>"
      ]
     },
     "metadata": {
      "needs_background": "light"
     },
     "output_type": "display_data"
    }
   ],
   "source": [
    "fig, axis = plt.subplots(1, 1, figsize=(7,5))\n",
    "\n",
    "plt.boxplot([day,night],showmeans=True, meanline=True)\n",
    "plt.ylabel(\"PM 2.5 level(µg/m³)\")\n",
    "plt.xlabel(\"\")\n",
    "plt.title(\"November month day and night pm 2.5 measurement.\")\n",
    "plt.xticks([1,2],['Day', 'Night'],)\n",
    "\n",
    "plt.show()"
   ]
  },
  {
   "cell_type": "markdown",
   "metadata": {},
   "source": [
    "### Removing Outliers from day and night observations for november month"
   ]
  },
  {
   "cell_type": "code",
   "execution_count": 75,
   "metadata": {},
   "outputs": [],
   "source": [
    "def removeOutliersIQRMethod(data):\n",
    "    Q1 = np.quantile(data, 0.25)\n",
    "    Q3 = np.quantile(data, 0.75)\n",
    "    IQR = Q3 - Q1\n",
    "    UL = Q3 + 1.5*IQR\n",
    "    LL = Q1 - 1.5*IQR\n",
    "    \n",
    "    return data[(data > LL) & (data < UL)]"
   ]
  },
  {
   "cell_type": "code",
   "execution_count": 76,
   "metadata": {},
   "outputs": [],
   "source": [
    "day = removeOutliersIQRMethod(day)\n",
    "night = removeOutliersIQRMethod(night)"
   ]
  },
  {
   "cell_type": "code",
   "execution_count": 77,
   "metadata": {},
   "outputs": [
    {
     "data": {
      "image/png": "[encoded data removed]",
      "text/plain": [
       "<Figure size 504x360 with 1 Axes>"
      ]
     },
     "metadata": {
      "needs_background": "light"
     },
     "output_type": "display_data"
    }
   ],
   "source": [
    "fig, axis = plt.subplots(1, 1, figsize=(7,5))\n",
    "\n",
    "plt.boxplot([day,night],showmeans=True, meanline=True)\n",
    "plt.ylabel(\"PM 2.5 level(µg/m³)\")\n",
    "plt.xlabel(\"\")\n",
    "plt.title(\"November month day and night pm 2.5 measurement.\")\n",
    "plt.xticks([1,2],['Day', 'Night'],)\n",
    "\n",
    "plt.show()"
   ]
  },
  {
   "cell_type": "markdown",
   "metadata": {},
   "source": [
    "### Hypothesis to check whether air quality is different during day and night in the month of November"
   ]
  },
  {
   "cell_type": "markdown",
   "metadata": {},
   "source": [
    " H0: pm2.5 means of day and night same (mu1 - mu2 = 0)<br>\n",
    " H1: pm2.5 means of day and night are different (mu1 - mu2 != 0)"
   ]
  },
  {
   "cell_type": "code",
   "execution_count": 101,
   "metadata": {},
   "outputs": [
    {
     "name": "stdout",
     "output_type": "stream",
     "text": [
      "Day mean 16.1794, Night mean 21.949333333333332, z is 1.959963984540054, s1 is 117.23661622222222, s2 is 78.33352163999999, n1 is 60 and n2 is 50\n"
     ]
    }
   ],
   "source": [
    "day_mean = day.mean()\n",
    "night_mean = night.mean()\n",
    "n2 = len(day)\n",
    "n1 = len(night)\n",
    "s2 = np.var(day)\n",
    "s1 = np.var(night)\n",
    "z_critical = sp.norm.ppf(0.975)\n",
    "print(f\"Day mean {day_mean}, Night mean {night_mean}, z is {z_critical}, s1 is {s1}, s2 is {s2}, n1 is {n1} and n2 \\\n",
    "is {n2}\")"
   ]
  },
  {
   "cell_type": "code",
   "execution_count": 102,
   "metadata": {},
   "outputs": [
    {
     "data": {
      "text/plain": [
       "9.4474724350679"
      ]
     },
     "execution_count": 102,
     "metadata": {},
     "output_type": "execute_result"
    }
   ],
   "source": [
    "(night_mean - day_mean) + z_critical*(np.sqrt((s1/n1) + (s2/n2)))"
   ]
  },
  {
   "cell_type": "code",
   "execution_count": 103,
   "metadata": {},
   "outputs": [
    {
     "data": {
      "text/plain": [
       "2.092394231598762"
      ]
     },
     "execution_count": 103,
     "metadata": {},
     "output_type": "execute_result"
    }
   ],
   "source": [
    "(night_mean - day_mean) - z_critical*(np.sqrt((s1/n1) + (s2/n2)))"
   ]
  },
  {
   "cell_type": "code",
   "execution_count": 104,
   "metadata": {},
   "outputs": [
    {
     "name": "stdout",
     "output_type": "stream",
     "text": [
      "3.0751165966383525\n"
     ]
    }
   ],
   "source": [
    "z_calculated = (night_mean - day_mean)/np.sqrt((s1/n1) + (s2/n2))\n",
    "print(z_calculated)"
   ]
  },
  {
   "cell_type": "markdown",
   "metadata": {},
   "source": [
    "As z_calculated > z_critical we reject H0"
   ]
  },
  {
   "cell_type": "code",
   "execution_count": 105,
   "metadata": {},
   "outputs": [
    {
     "name": "stdout",
     "output_type": "stream",
     "text": [
      "0.002104202753662854\n"
     ]
    }
   ],
   "source": [
    "p_value = 2*(1 - sp.norm.cdf(z_calculated))\n",
    "print(p_value)"
   ]
  },
  {
   "cell_type": "markdown",
   "metadata": {},
   "source": [
    "as p_value < alpha(0.05) we reject H0"
   ]
  },
  {
   "cell_type": "markdown",
   "metadata": {},
   "source": [
    "\n",
    "#### Conclusion - with 95% Confidence we can say that air quality at day and night are different in month of november"
   ]
  },
  {
   "cell_type": "markdown",
   "metadata": {},
   "source": [
    "### 4th week of March day and night pm 2.5 level"
   ]
  },
  {
   "cell_type": "code",
   "execution_count": 83,
   "metadata": {},
   "outputs": [],
   "source": [
    "march_df = pm25_df[pm25_df['month'] == '03'][['value','date','time']]"
   ]
  },
  {
   "cell_type": "code",
   "execution_count": 84,
   "metadata": {},
   "outputs": [],
   "source": [
    "march_df['time'] = list(map(lambda x:x[0:2], march_df['time']))"
   ]
  },
  {
   "cell_type": "code",
   "execution_count": 85,
   "metadata": {},
   "outputs": [
    {
     "data": {
      "text/plain": [
       "value    float64\n",
       "date      object\n",
       "time      object\n",
       "dtype: object"
      ]
     },
     "execution_count": 85,
     "metadata": {},
     "output_type": "execute_result"
    }
   ],
   "source": [
    "march_df.dtypes"
   ]
  },
  {
   "cell_type": "code",
   "execution_count": 86,
   "metadata": {},
   "outputs": [],
   "source": [
    "march_df['date'] = march_df['date'].astype(int)\n",
    "march_df['time'] = march_df['time'].astype(int)"
   ]
  },
  {
   "cell_type": "code",
   "execution_count": 87,
   "metadata": {},
   "outputs": [
    {
     "data": {
      "text/html": [
       "<div>\n",
       "<style scoped>\n",
       "    .dataframe tbody tr th:only-of-type {\n",
       "        vertical-align: middle;\n",
       "    }\n",
       "\n",
       "    .dataframe tbody tr th {\n",
       "        vertical-align: top;\n",
       "    }\n",
       "\n",
       "    .dataframe thead th {\n",
       "        text-align: right;\n",
       "    }\n",
       "</style>\n",
       "<table border=\"1\" class=\"dataframe\">\n",
       "  <thead>\n",
       "    <tr style=\"text-align: right;\">\n",
       "      <th></th>\n",
       "      <th>value</th>\n",
       "      <th>date</th>\n",
       "      <th>time</th>\n",
       "    </tr>\n",
       "  </thead>\n",
       "  <tbody>\n",
       "    <tr>\n",
       "      <th>6307</th>\n",
       "      <td>23.89</td>\n",
       "      <td>31</td>\n",
       "      <td>23</td>\n",
       "    </tr>\n",
       "    <tr>\n",
       "      <th>6308</th>\n",
       "      <td>23.24</td>\n",
       "      <td>31</td>\n",
       "      <td>23</td>\n",
       "    </tr>\n",
       "    <tr>\n",
       "      <th>6309</th>\n",
       "      <td>23.24</td>\n",
       "      <td>31</td>\n",
       "      <td>22</td>\n",
       "    </tr>\n",
       "    <tr>\n",
       "      <th>6310</th>\n",
       "      <td>23.24</td>\n",
       "      <td>31</td>\n",
       "      <td>22</td>\n",
       "    </tr>\n",
       "    <tr>\n",
       "      <th>6311</th>\n",
       "      <td>24.10</td>\n",
       "      <td>31</td>\n",
       "      <td>22</td>\n",
       "    </tr>\n",
       "  </tbody>\n",
       "</table>\n",
       "</div>"
      ],
      "text/plain": [
       "      value  date  time\n",
       "6307  23.89    31    23\n",
       "6308  23.24    31    23\n",
       "6309  23.24    31    22\n",
       "6310  23.24    31    22\n",
       "6311  24.10    31    22"
      ]
     },
     "execution_count": 87,
     "metadata": {},
     "output_type": "execute_result"
    }
   ],
   "source": [
    "march_df.head()"
   ]
  },
  {
   "cell_type": "code",
   "execution_count": 88,
   "metadata": {},
   "outputs": [
    {
     "data": {
      "text/html": [
       "<div>\n",
       "<style scoped>\n",
       "    .dataframe tbody tr th:only-of-type {\n",
       "        vertical-align: middle;\n",
       "    }\n",
       "\n",
       "    .dataframe tbody tr th {\n",
       "        vertical-align: top;\n",
       "    }\n",
       "\n",
       "    .dataframe thead th {\n",
       "        text-align: right;\n",
       "    }\n",
       "</style>\n",
       "<table border=\"1\" class=\"dataframe\">\n",
       "  <thead>\n",
       "    <tr style=\"text-align: right;\">\n",
       "      <th></th>\n",
       "      <th>value</th>\n",
       "      <th>time</th>\n",
       "    </tr>\n",
       "  </thead>\n",
       "  <tbody>\n",
       "    <tr>\n",
       "      <th>6307</th>\n",
       "      <td>23.89</td>\n",
       "      <td>23</td>\n",
       "    </tr>\n",
       "    <tr>\n",
       "      <th>6308</th>\n",
       "      <td>23.24</td>\n",
       "      <td>23</td>\n",
       "    </tr>\n",
       "    <tr>\n",
       "      <th>6309</th>\n",
       "      <td>23.24</td>\n",
       "      <td>22</td>\n",
       "    </tr>\n",
       "    <tr>\n",
       "      <th>6310</th>\n",
       "      <td>23.24</td>\n",
       "      <td>22</td>\n",
       "    </tr>\n",
       "    <tr>\n",
       "      <th>6311</th>\n",
       "      <td>24.10</td>\n",
       "      <td>22</td>\n",
       "    </tr>\n",
       "  </tbody>\n",
       "</table>\n",
       "</div>"
      ],
      "text/plain": [
       "      value  time\n",
       "6307  23.89    23\n",
       "6308  23.24    23\n",
       "6309  23.24    22\n",
       "6310  23.24    22\n",
       "6311  24.10    22"
      ]
     },
     "execution_count": 88,
     "metadata": {},
     "output_type": "execute_result"
    }
   ],
   "source": [
    "march_df_last_week = march_df[(march_df['date'] >= 25) & (march_df['date'] <= 31)][['value','time']]\n",
    "march_df_last_week.head()"
   ]
  },
  {
   "cell_type": "code",
   "execution_count": 89,
   "metadata": {},
   "outputs": [
    {
     "data": {
      "text/plain": [
       "array([23, 22, 21, 20, 19, 18, 17, 16, 15, 14, 13, 12, 11, 10,  9,  8,  7,\n",
       "        6,  5,  4,  3,  2,  1,  0])"
      ]
     },
     "execution_count": 89,
     "metadata": {},
     "output_type": "execute_result"
    }
   ],
   "source": [
    "march_df_last_week['time'].unique()"
   ]
  },
  {
   "cell_type": "code",
   "execution_count": 90,
   "metadata": {},
   "outputs": [],
   "source": [
    "day = march_df_last_week[(march_df_last_week['time'] >= 6) & (march_df_last_week['time']<=18)]['value']\n",
    "night = march_df_last_week[(march_df_last_week['time'] > 18) | (march_df_last_week['time'] < 6)]['value']"
   ]
  },
  {
   "cell_type": "code",
   "execution_count": 92,
   "metadata": {},
   "outputs": [
    {
     "data": {
      "image/png": "[encoded data removed]",
      "text/plain": [
       "<Figure size 504x288 with 1 Axes>"
      ]
     },
     "metadata": {
      "needs_background": "light"
     },
     "output_type": "display_data"
    }
   ],
   "source": [
    "fig, axis = plt.subplots(1, 1, figsize=(7,4))\n",
    "\n",
    "plt.boxplot([day,night],showmeans=True, meanline=True)\n",
    "plt.ylabel(\"PM 2.5 level(µg/m³)\")\n",
    "plt.xlabel(\"\")\n",
    "plt.title(\"March last week day and night pm 2.5 measurement.\")\n",
    "plt.xticks([1,2],['Day', 'Night'],)\n",
    "\n",
    "plt.show()"
   ]
  },
  {
   "cell_type": "code",
   "execution_count": 93,
   "metadata": {},
   "outputs": [],
   "source": [
    "day = removeOutliersIQRMethod(day)\n",
    "night = removeOutliersIQRMethod(night)"
   ]
  },
  {
   "cell_type": "markdown",
   "metadata": {},
   "source": [
    "### Box plot after removing outliers"
   ]
  },
  {
   "cell_type": "code",
   "execution_count": 94,
   "metadata": {},
   "outputs": [
    {
     "data": {
      "image/png": "[encoded data removed]",
      "text/plain": [
       "<Figure size 504x288 with 1 Axes>"
      ]
     },
     "metadata": {
      "needs_background": "light"
     },
     "output_type": "display_data"
    }
   ],
   "source": [
    "fig, axis = plt.subplots(1, 1, figsize=(7,4))\n",
    "\n",
    "plt.boxplot([day,night],showmeans=True, meanline=True)\n",
    "plt.ylabel(\"PM 2.5 level(µg/m³)\")\n",
    "plt.xlabel(\"\")\n",
    "plt.title(\"March last week day and night pm 2.5 measurement.\")\n",
    "plt.xticks([1,2],['Day', 'Night'],)\n",
    "\n",
    "plt.show()"
   ]
  },
  {
   "cell_type": "markdown",
   "metadata": {},
   "source": [
    "### Hypothesis to check whether there is difference in pollution level between Day and Night for last week of march "
   ]
  },
  {
   "cell_type": "markdown",
   "metadata": {},
   "source": [
    " H0: pm2.5 means of last week fo march day and night same (mu1 - mu2 = 0) <br>\n",
    " H1: pm2.5 means of last week fo march day and night are different (mu1 - mu2 != 0) <br>\n",
    " CI = 99<br>\n",
    " Alpha = 0.01"
   ]
  },
  {
   "cell_type": "code",
   "execution_count": 95,
   "metadata": {},
   "outputs": [
    {
     "name": "stdout",
     "output_type": "stream",
     "text": [
      "Day mean 16.1794, Night mean 21.949333333333332, z is 2.5758293035489004, s1 is 117.23661622222222, s2 is 78.33352163999999, n1 is 60 and n2 is 50\n"
     ]
    }
   ],
   "source": [
    "day = day.sample(50)\n",
    "night = night.sample(60)\n",
    "\n",
    "day_mean = day.mean()\n",
    "night_mean = night.mean()\n",
    "n2 = len(day)\n",
    "n1 = len(night)\n",
    "s2 = np.var(day)\n",
    "s1 = np.var(night)\n",
    "z_critical = sp.norm.ppf(0.995)\n",
    "print(f\"Day mean {day_mean}, Night mean {night_mean}, z is {z_critical}, s1 is {s1}, s2 is {s2}, n1 is {n1} and n2 \\\n",
    "is {n2}\")"
   ]
  },
  {
   "cell_type": "code",
   "execution_count": 96,
   "metadata": {},
   "outputs": [
    {
     "data": {
      "text/plain": [
       "10.603038970944201"
      ]
     },
     "execution_count": 96,
     "metadata": {},
     "output_type": "execute_result"
    }
   ],
   "source": [
    "(night_mean - day_mean) + z_critical*(np.sqrt((s1/n1) + (s2/n2)))"
   ]
  },
  {
   "cell_type": "code",
   "execution_count": 97,
   "metadata": {},
   "outputs": [
    {
     "data": {
      "text/plain": [
       "0.9368276957224593"
      ]
     },
     "execution_count": 97,
     "metadata": {},
     "output_type": "execute_result"
    }
   ],
   "source": [
    "(night_mean - day_mean) - z_critical*(np.sqrt((s1/n1) + (s2/n2)))"
   ]
  },
  {
   "cell_type": "code",
   "execution_count": 98,
   "metadata": {},
   "outputs": [
    {
     "name": "stdout",
     "output_type": "stream",
     "text": [
      "3.0751165966383525\n"
     ]
    }
   ],
   "source": [
    "z_calculated = (night_mean - day_mean)/np.sqrt((s1/n1) + (s2/n2))\n",
    "print(z_calculated)"
   ]
  },
  {
   "cell_type": "markdown",
   "metadata": {},
   "source": [
    "As z_calculated > z_critical we reject H0"
   ]
  },
  {
   "cell_type": "code",
   "execution_count": 99,
   "metadata": {},
   "outputs": [
    {
     "name": "stdout",
     "output_type": "stream",
     "text": [
      "0.002104202753662854\n"
     ]
    }
   ],
   "source": [
    "p_value = 2*(1 - sp.norm.cdf(z_calculated))\n",
    "print(p_value)"
   ]
  },
  {
   "cell_type": "markdown",
   "metadata": {},
   "source": [
    "as p_value < alpha(0.01) we reject H0"
   ]
  },
  {
   "cell_type": "markdown",
   "metadata": {},
   "source": [
    "####  Conclusion - we are 99% confident that air quality at day and night are different for last week of march"
   ]
  },
  {
   "cell_type": "markdown",
   "metadata": {},
   "source": [
    "# <center>--- Thank You --- </center>"
   ]
  }
 ],
 "metadata": {
  "kernelspec": {
   "display_name": "Python 3",
   "language": "python",
   "name": "python3"
  },
  "language_info": {
   "codemirror_mode": {
    "name": "ipython",
    "version": 3
   },
   "file_extension": ".py",
   "mimetype": "text/x-python",
   "name": "python",
   "nbconvert_exporter": "python",
   "pygments_lexer": "ipython3",
   "version": "3.8.5"
  }
 },
 "nbformat": 4,
 "nbformat_minor": 4
}
